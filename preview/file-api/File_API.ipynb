{
  "cells": [
    {
      "cell_type": "markdown",
      "metadata": {
        "id": "084u8u0DpBlo"
      },
      "source": [
        "## Overview\n",
        "\n",
        "The Gemini File API provides a simple way for developers to upload files and use them with the Gemini API in multimodal scenarios. This notebook shows how to use the File API to upload an image and include it in a `GenerateContent` call to the Gemini API.\n",
        "\n",
        "Note: This API is currently in [private preview](https://github.com/google-gemini/gemini-api-cookbook/blob/main/preview/README.md) and is [only available in certain regions](https://ai.google.dev/available_regions).\n"
      ]
    },
    {
      "cell_type": "markdown",
      "metadata": {
        "id": "VxCstRHvpX0r"
      },
      "source": [
        "## Setup\n"
      ]
    },
    {
      "cell_type": "markdown",
      "source": [
        "### Install the Gemini API Python SDK"
      ],
      "metadata": {
        "id": "tcuYo2fX_i9M"
      }
    },
    {
      "cell_type": "code",
      "source": [
        "# TODO (tymichaelchen@): Use PyPI package once version is released.\n",
        "!pip install -U git+https://github.com/google/generative-ai-python # Install the Python SDK"
      ],
      "metadata": {
        "id": "esD-0jnt_sxk"
      },
      "execution_count": null,
      "outputs": []
    },
    {
      "cell_type": "markdown",
      "metadata": {
        "id": "YdyC6Z6wqxz-"
      },
      "source": [
        "### Authentication Overview\n",
        "\n",
        "**Important:** The File API uses API keys for authentication and access. Uploaded files are associated with the API key's cloud project. Unlike other Gemini APIs that use API keys, your API key also grants access data you've uploaded to the File API, so take extra care in keeping your API key secure. For best practices on securing API keys, refer to Google's [documentation](https://support.google.com/googleapi/answer/6310037)."
      ]
    },
    {
      "cell_type": "markdown",
      "metadata": {
        "id": "l8g4hTRotheH"
      },
      "source": [
        "### Setup your API key\n",
        "\n",
        "To run the following cell, your API key must be stored it in a Colab Secret named `GOOGLE_API_KEY`. If you don't already have an API key, or you're not sure how to create a Colab Secret, see [Authentication](https://github.com/google-gemini/gemini-api-cookbook/blob/main/quickstarts/Authentication.ipynb) for an example."
      ]
    },
    {
      "cell_type": "code",
      "source": [
        "from google.colab import userdata\n",
        "import google.generativeai as genai\n",
        "\n",
        "GOOGLE_API_KEY=userdata.get('GOOGLE_API_KEY')\n",
        "genai.configure(api_key=GOOGLE_API_KEY)"
      ],
      "metadata": {
        "id": "1Icl8u0K_1bw"
      },
      "execution_count": null,
      "outputs": []
    },
    {
      "cell_type": "markdown",
      "metadata": {
        "id": "c-z4zsCUlaru"
      },
      "source": [
        "## Upload a file to the File API\n",
        "\n",
        "The File API lets you upload a variety of multi-modal MIME types including images. The File API is only intended as input to generate content and has the following attributes:\n",
        "\n",
        "* Can only be used with [`model.generateContent`](https://ai.google.dev/api/rest/v1beta/models/generateContent) or [`model.streamGenerateContent`](https://ai.google.dev/api/rest/v1beta/models/streamGenerateContent)\n",
        "* Automatic file deletion after 2 days\n",
        "* Maximum 2GB per file, 20GB limit per project\n",
        "* No downloads allowed\n",
        "\n",
        "First, click **Files** on the left sidebar, then click **Upload** and upload an image file to Colab.\n",
        "\n",
        "<img width=400 src=\"https://ai.google.dev/tutorials/images/colab_upload.png\">\n",
        "\n",
        "Next, we'll upload that file to the File API. In the form for the code cell below, enter the filename for the file you uploaded and provide an appropriate display name for the file, then run the cell."
      ]
    },
    {
      "cell_type": "code",
      "execution_count": null,
      "metadata": {
        "id": "N9NxXGZKKusG"
      },
      "outputs": [],
      "source": [
        "# Implement the File class expected by the File API\n",
        "class File:\n",
        "  def __init__(self, file_path: str, display_name: str = None,\n",
        "               response = None):\n",
        "    self.file_path = file_path\n",
        "    if display_name:\n",
        "      self.display_name = display_name\n",
        "\n",
        "  def set_response(self, response):\n",
        "    self.response = response\n",
        "\n",
        "# Specify the file to upload\n",
        "my_filename = \"gemini_logo.png\" # @param {type:\"string\"}\n",
        "my_file_display_name = \"Gemini Logo\" # @param {type:\"string\"}\n",
        "\n",
        "# Create a File\n",
        "uploaded_file = File(\n",
        "    file_path=my_filename,\n",
        "    display_name=my_file_display_name\n",
        ")\n",
        "\n",
        "# Upload the file to the File API\n",
        "response = genai.upload_file(path=uploaded_file.file_path,\n",
        "                             display_name=uploaded_file.display_name)\n",
        "uploaded_file.set_response(response)\n",
        "print(f\"Uploaded file {response.display_name} as: {response.uri}\")"
      ]
    },
    {
      "cell_type": "markdown",
      "metadata": {
        "id": "oOZmTUb4FWOa"
      },
      "source": [
        "## Get File\n",
        "\n",
        "`files.get` lets you get the file metadata that have been uploaded to the File API that are associated with the Cloud project your API key belongs to. Only the `name` (and by extension, the `uri`) are unique. Only use the `displayName` to identify files if you manage uniqueness yourself."
      ]
    },
    {
      "cell_type": "code",
      "execution_count": null,
      "metadata": {
        "id": "SHMVCWHkFhJW"
      },
      "outputs": [],
      "source": [
        "# Get files uploaded in the API\n",
        "response = genai.get_file(name=response.name)\n",
        "print(f\"Retrieved file {response.display_name} as: {response.uri}\")"
      ]
    },
    {
      "cell_type": "markdown",
      "metadata": {
        "id": "EPPOECHzsIGJ"
      },
      "source": [
        "## Generate Content\n",
        "\n",
        "After the file has been uploaded, you can make `GenerateContent` requests that reference the File API URI. In this example, `makeGenerateContentRequest()` creates a request that starts with a text `Part` and then has a series of image file `Part`s, but valid `Part`s can come in any order."
      ]
    },
    {
      "cell_type": "code",
      "execution_count": null,
      "metadata": {
        "id": "ZYVFqmLkl5nE"
      },
      "outputs": [],
      "source": [
        "# Make GenerateContent LLM call\n",
        "prompt = \"Describe the image with a creative description\" # @param {type:\"string\"}\n",
        "model_name = \"models/gemini-1.5-pro-latest\" # @param [\"models/gemini-1.5-pro-latest\", \"models/gemini-1.0-pro-vision-latest\"]\n",
        "\n",
        "model = genai.GenerativeModel(model_name=model_name)\n",
        "response = model.generate_content([prompt, uploaded_file.response])\n",
        "print(response)"
      ]
    },
    {
      "cell_type": "markdown",
      "metadata": {
        "id": "IrPDYdQSKTg4"
      },
      "source": [
        "## Delete Files\n",
        "\n",
        "Files are automatically deleted after 2 days or you can manually delete them using `files.delete()`."
      ]
    },
    {
      "cell_type": "code",
      "execution_count": null,
      "metadata": {
        "id": "d4eO8ZXoKdZf"
      },
      "outputs": [],
      "source": [
        "# Delete the files with its resource name\n",
        "# TODO(tymichaelchen@): Confirm this works after the colab fix.\n",
        "genai.delete_file(uploaded_file.response.name)\n",
        "print(f'Deleted {uploaded_file.display_name}')"
      ]
    }
  ],
  "metadata": {
    "colab": {
      "private_outputs": true,
      "provenance": []
    },
    "kernelspec": {
      "display_name": "Python 3",
      "name": "python3"
    },
    "language_info": {
      "name": "python"
    }
  },
  "nbformat": 4,
  "nbformat_minor": 0
}
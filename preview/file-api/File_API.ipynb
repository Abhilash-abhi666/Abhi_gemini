{
  "cells": [
    {
      "cell_type": "markdown",
      "metadata": {
        "id": "084u8u0DpBlo"
      },
      "source": [
        "## Overview\n",
        "\n",
        "The Gemini File API provides a simple way for developers to upload files and use them with the Gemini API in multimodal scenarios. This notebook shows how to use the File API to upload an image and include it in a `GenerateContent` call to the Gemini API.\n",
        "\n",
        "Note: This API is currently in [private preview](https://github.com/google-gemini/gemini-api-cookbook/blob/main/preview/README.md) and is [only available in certain regions](https://ai.google.dev/available_regions).\n"
      ]
    },
    {
      "cell_type": "markdown",
      "metadata": {
        "id": "VxCstRHvpX0r"
      },
      "source": [
        "## Setup\n"
      ]
    },
    {
      "cell_type": "markdown",
      "source": [
        "### Install the Gemini API Python SDK"
      ],
      "metadata": {
        "id": "tcuYo2fX_i9M"
      }
    },
    {
      "cell_type": "code",
      "source": [
        "# TODO (tymichaelchen@): Use PyPI package once version is released.\n",
        "!pip install -U git+https://github.com/google/generative-ai-python # Install the Python SDK"
      ],
      "metadata": {
        "id": "esD-0jnt_sxk"
      },
      "execution_count": null,
      "outputs": []
    },
    {
      "cell_type": "markdown",
      "metadata": {
        "id": "YdyC6Z6wqxz-"
      },
      "source": [
        "### Authentication Overview\n",
        "\n",
        "**Important:** The File API uses API keys for authentication and access. Uploaded files are associated with the API key's cloud project. Unlike other Gemini APIs that use API keys, your API key also grants access data you've uploaded to the File API, so take extra care in keeping your API key secure. For best practices on securing API keys, refer to Google's [documentation](https://support.google.com/googleapi/answer/6310037)."
      ]
    },
    {
      "cell_type": "markdown",
      "metadata": {
        "id": "l8g4hTRotheH"
      },
      "source": [
        "### Setup your API key\n",
        "\n",
        "To run the following cell, your API key must be stored it in a Colab Secret named `GOOGLE_API_KEY`. If you don't already have an API key, or you're not sure how to create a Colab Secret, see [Authentication](https://github.com/google-gemini/gemini-api-cookbook/blob/main/quickstarts/Authentication.ipynb) for an example."
      ]
    },
    {
      "cell_type": "code",
      "source": [
        "import google.generativeai as genai\n",
        "\n",
        "from IPython.display import Markdown"
      ],
      "metadata": {
        "id": "iWd---jVKV5M"
      },
      "execution_count": null,
      "outputs": []
    },
    {
      "cell_type": "code",
      "source": [
        "from google.colab import userdata\n",
        "\n",
        "\n",
        "GOOGLE_API_KEY=userdata.get('GOOGLE_API_KEY')\n",
        "genai.configure(api_key=GOOGLE_API_KEY)"
      ],
      "metadata": {
        "id": "1Icl8u0K_1bw"
      },
      "execution_count": null,
      "outputs": []
    },
    {
      "cell_type": "code",
      "source": [
        "model = genai.GenerativeModel(model_name=\"models/gemini-1.5-pro-latest\")"
      ],
      "metadata": {
        "id": "i5nMznkiQfvE"
      },
      "execution_count": null,
      "outputs": []
    },
    {
      "cell_type": "markdown",
      "metadata": {
        "id": "c-z4zsCUlaru"
      },
      "source": [
        "## Upload a file to the File API\n",
        "\n",
        "The File API lets you upload a variety of multi-modal MIME types including images. The File API is only intended as input to generate content and has the following attributes:\n",
        "\n",
        "* Can only be used with [`generateContent`](https://ai.google.dev/api/rest/v1beta/models/generateContent) or [`streamGenerateContent`](https://ai.google.dev/api/rest/v1beta/models/streamGenerateContent) (Chat uses GenerateContent behind the scenes).\n",
        "* Automatic file deletion after 2 days\n",
        "* Maximum 2GB per file, 20GB limit per project\n",
        "* No downloads allowed\n",
        "\n"
      ]
    },
    {
      "cell_type": "code",
      "source": [
        "!curl -o image.jpg https://storage.googleapis.com/generativeai-downloads/images/jetpack.jpg"
      ],
      "metadata": {
        "id": "EfuQVRXIGqvt"
      },
      "execution_count": null,
      "outputs": []
    },
    {
      "cell_type": "code",
      "execution_count": null,
      "metadata": {
        "id": "N9NxXGZKKusG"
      },
      "outputs": [],
      "source": [
        "# Upload the file to the File API\n",
        "my_file = genai.upload_file(path=\"image.jpg\",\n",
        "                            display_name=\"My diagram\")\n",
        "\n",
        "print(f\"Uploaded file '{my_file.display_name}' [{my_file.name}] as: {my_file.uri}\")"
      ]
    },
    {
      "cell_type": "markdown",
      "metadata": {
        "id": "EPPOECHzsIGJ"
      },
      "source": [
        "## Generate Content\n",
        "\n",
        "After the file has been uploaded, you can make `GenerateContent` requests that reference the File API URI. In this example, `makeGenerateContentRequest()` creates a request that starts with a text `Part` and then has a series of image file `Part`s, but valid `Part`s can come in any order."
      ]
    },
    {
      "cell_type": "code",
      "execution_count": null,
      "metadata": {
        "id": "ZYVFqmLkl5nE"
      },
      "outputs": [],
      "source": [
        "# Make GenerateContent LLM call\n",
        "response = model.generate_content([\"Describe the image with a creative description:\", my_file])\n",
        "\n",
        "Markdown(\">\" + response.text)"
      ]
    },
    {
      "cell_type": "markdown",
      "source": [
        "## Try Audio"
      ],
      "metadata": {
        "id": "Kxe7vWKsMaf3"
      }
    },
    {
      "cell_type": "code",
      "source": [
        "!curl -O https://storage.googleapis.com/generativeai-downloads/data/TestAudio.m4a"
      ],
      "metadata": {
        "id": "XvyB7kT1K4lh"
      },
      "execution_count": null,
      "outputs": []
    },
    {
      "cell_type": "code",
      "source": [
        "# Upload the file to the File API\n",
        "audio_file = genai.upload_file(path=\"TestAudio.m4a\",\n",
        "                            display_name=\"test audio\")\n",
        "\n",
        "print(f\"Uploaded file '{audio_file.display_name}' [{audio_file.name}] as: {audio_file.uri}\")"
      ],
      "metadata": {
        "id": "3HXr7ddoMi2c"
      },
      "execution_count": null,
      "outputs": []
    },
    {
      "cell_type": "code",
      "source": [
        "# Make GenerateContent LLM call\n",
        "response = model.generate_content([\"Describe this:\", audio_file])\n",
        "\n",
        "Markdown(\">\" + response.text)"
      ],
      "metadata": {
        "id": "OgRV-Ck-Mw07"
      },
      "execution_count": null,
      "outputs": []
    },
    {
      "cell_type": "markdown",
      "metadata": {
        "id": "oOZmTUb4FWOa"
      },
      "source": [
        "## Get file and list files\n",
        "\n",
        "`files.get` lets you get the file metadata that have been uploaded to the File API that are associated with the Cloud project your API key belongs to. Only the `name` (and by extension, the `uri`) are unique. Only use the `displayName` to identify files if you manage uniqueness yourself."
      ]
    },
    {
      "cell_type": "code",
      "source": [
        "for n, f in zip(range(5), genai.list_files()):\n",
        "  print(f.name)"
      ],
      "metadata": {
        "id": "lEePEKquJQzo"
      },
      "execution_count": null,
      "outputs": []
    },
    {
      "cell_type": "code",
      "execution_count": null,
      "metadata": {
        "id": "SHMVCWHkFhJW"
      },
      "outputs": [],
      "source": [
        "# Get files uploaded in the API\n",
        "f = genai.get_file(name=audio_file.name)\n",
        "print(f\"Uploaded file '{f.display_name}' [{f.name}] as: {my_file.uri}\")"
      ]
    },
    {
      "cell_type": "markdown",
      "metadata": {
        "id": "IrPDYdQSKTg4"
      },
      "source": [
        "## Delete Files\n",
        "\n",
        "Files are automatically deleted after 2 days or you can manually delete them using `files.delete()`."
      ]
    },
    {
      "cell_type": "code",
      "execution_count": null,
      "metadata": {
        "id": "d4eO8ZXoKdZf"
      },
      "outputs": [],
      "source": [
        "# Delete the files with its resource name\n",
        "# TODO(tymichaelchen@): Confirm this works after the colab fix.\n",
        "genai.delete_file(audio_file.name)\n",
        "print(f'Deleted {audio_file.display_name}')"
      ]
    },
    {
      "cell_type": "markdown",
      "source": [
        "## Use your own files: uploading to colab\n",
        "\n",
        "This notebook useds the Files Api with files that were downloaded from the internet. If you're running thin in Colab and want to use your own files you first need to uplload them to the colab instance.\n",
        "\n",
        "First, click **Files** on the left sidebar, then click the **Upload** button:\n",
        "\n",
        "<img width=400 src=\"https://ai.google.dev/tutorials/images/colab_upload.png\">\n"
      ],
      "metadata": {
        "id": "1vDOxWIpHPyD"
      }
    },
    {
      "cell_type": "code",
      "source": [],
      "metadata": {
        "id": "aNAvH4nfH-Hv"
      },
      "execution_count": null,
      "outputs": []
    }
  ],
  "metadata": {
    "colab": {
      "private_outputs": true,
      "provenance": []
    },
    "kernelspec": {
      "display_name": "Python 3",
      "name": "python3"
    },
    "language_info": {
      "name": "python"
    }
  },
  "nbformat": 4,
  "nbformat_minor": 0
}
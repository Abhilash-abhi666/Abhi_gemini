{
  "cells": [
    {
      "cell_type": "markdown",
      "metadata": {
        "id": "084u8u0DpBlo"
      },
      "source": [
        "## Overview\n",
        "\n",
        "The Files API is part of the Gemini API family. This new API empowers developers to upload files for Gemini to use in multi-model scenarios. The files API is the most stable and least error prone method of unlocking multi-model support in your applications using Gemini.\n",
        "\n",
        "\n",
        "> The Files API is currently in early access. Features and endpoints may change. Please use with caution in production environments."
      ]
    },
    {
      "cell_type": "markdown",
      "metadata": {
        "id": "VxCstRHvpX0r"
      },
      "source": [
        "## Setup\n"
      ]
    },
    {
      "cell_type": "markdown",
      "metadata": {
        "id": "YdyC6Z6wqxz-"
      },
      "source": [
        "### Authentication Overview\n",
        "\n",
        "Files API uses API keys for authentication and access. Files uploaded via the API belong to the cloud project used during the request. As such, take extra caution in keeping your API keys secure. Publicly exposing the credentials can result in your data being compromised. For best practices on securing API keys, refer to Google's [documentation](https://support.google.com/googleapi/answer/6310037)."
      ]
    },
    {
      "cell_type": "markdown",
      "metadata": {
        "id": "l8g4hTRotheH"
      },
      "source": [
        "### Setup your API key\n",
        "\n",
        "Before you can use the Gemini API, you must first obtain an API key. If you don't already have one, create a key with one click in Google AI Studio.\n",
        "\n",
        "<a class=\"button button-primary\" href=\"https://makersuite.google.com/app/apikey\" target=\"_blank\" rel=\"noopener noreferrer\">Get an API key</a>\n",
        "\n",
        "In Colab, add the key to the secrets manager under the \"🔑\" in the left panel. Give it the name `GOOGLE_API_KEY`.\n",
        "\n",
        "Once you have the API key, pass it to the SDK. You can do this in two ways:\n",
        "\n",
        "* Put the key in the `GOOGLE_API_KEY` environment variable (the SDK will automatically pick it up from there).\n",
        "* Pass the key to `genai.configure(api_key=...)`\n",
        "\n"
      ]
    },
    {
      "cell_type": "code",
      "execution_count": null,
      "metadata": {
        "id": "d6lYXRcjthKV"
      },
      "outputs": [],
      "source": [
        "# Used to securely store your API key\n",
        "from google.colab import userdata\n",
        "\n",
        "# Or use `os.getenv('GOOGLE_API_KEY')` to fetch an environment variable.\n",
        "GOOGLE_API_KEY=userdata.get('GOOGLE_API_KEY')"
      ]
    },
    {
      "cell_type": "markdown",
      "metadata": {
        "id": "G6J_rV2ipmj_"
      },
      "source": [
        "### Build Google API Client for Generative Language API\n",
        "\n",
        "NOTE: Generative Language SDK support for Files API is not yet available. For now, we will use the public [google-api-python-client](https://github.com/googleapis/google-api-python-client) to build a client library from the discovery docs."
      ]
    },
    {
      "cell_type": "code",
      "execution_count": null,
      "metadata": {
        "id": "mN8x8DPgu9Kv"
      },
      "outputs": [],
      "source": [
        "# Fetch the discovery docs for the Generative Language API service.\n",
        "from googleapiclient.discovery import build\n",
        "import googleapiclient\n",
        "import requests\n",
        "\n",
        "DISCOVERY_URL = f'https://generativelanguage.googleapis.com/$discovery/rest?version=v1beta&key={GOOGLE_API_KEY}';\n",
        "discovery_docs = requests.get(DISCOVERY_URL).content\n",
        "genai_service = googleapiclient.discovery.build_from_document(discovery_docs, developerKey=GOOGLE_API_KEY)"
      ]
    },
    {
      "cell_type": "markdown",
      "metadata": {
        "id": "c-z4zsCUlaru"
      },
      "source": [
        "## Upload files\n",
        "\n",
        "Once we have the client service built, we are now ready to create our file.\n",
        "\n",
        "\n",
        "The Files API lets you upload a variety of multi-modal MIME types including images. The API is intended only for model inference calls, as such the API has the following characteristics:\n",
        "\n",
        "* Can only be referenced for model inference calls\n",
        "* Automatic deletion after 2 days\n",
        "* Maximum 2GB per file, 20GB limit per project\n",
        "* No downloads allowed\n",
        "\n",
        "\n",
        "To get started, upload the file you'd like to use for an LLM model inference call by using the file icon on the left sidebar, then the upload icon, as shown in the screenshot below.\n",
        "\n",
        "<img width=400 src=\"https://ai.google.dev/tutorials/images/colab_upload.png\">"
      ]
    },
    {
      "cell_type": "code",
      "execution_count": null,
      "metadata": {
        "id": "JSd4s0YygV9r"
      },
      "outputs": [],
      "source": [
        "import mimetypes\n",
        "\n",
        "class File:\n",
        "  def __init__(self, file_path: str, display_name: str = None,\n",
        "               mimetype: str = None, uri = None):\n",
        "    self.file_path = file_path\n",
        "    if display_name:\n",
        "      self.display_name = display_name\n",
        "    # Detect mimetype if not specified\n",
        "    self.mimetype = mimetype if mimetype else mimetypes.guess_type(file_path)[0]\n",
        "    self.uri = uri\n",
        "\n",
        "  def set_file_uri(self, uri):\n",
        "    self.uri = uri\n",
        "\n",
        "# Reference the file uploaded\n",
        "uploaded_file_name = \"gemini.png\" # @param {type:\"string\"}\n",
        "file_display_name = \"Gemini Logo\" # @param {type:\"string\"}\n",
        "# Create a file object\n",
        "files_to_upload = [\n",
        "    File(file_path=uploaded_file_name,\n",
        "         display_name=file_display_name)]\n",
        "\n",
        "# Upload the files to the API\n",
        "uploaded_files = []\n",
        "print(f'Uploading {len(files_to_upload)} files...')\n",
        "for file in files_to_upload:\n",
        "  response = genai_service.media().upload(\n",
        "      media_body=file.file_path,\n",
        "      media_mime_type = file.mimetype,\n",
        "      body={\"file\": {\"display_name\": file.display_name}}).execute()\n",
        "  file.set_file_uri(response[\"file\"][\"uri\"])\n",
        "  uploaded_files.append(file)\n",
        "\n",
        "\n",
        "print(f\"Completed file uploads!\\n\\nUploaded: {len(uploaded_files)} files\")"
      ]
    },
    {
      "cell_type": "markdown",
      "metadata": {
        "id": "oOZmTUb4FWOa"
      },
      "source": [
        "## List Files\n",
        "\n",
        "After uploading the file, you can verify it was successfully uploaded by making a GetFile or ListFiles request."
      ]
    },
    {
      "cell_type": "code",
      "execution_count": null,
      "metadata": {
        "id": "SHMVCWHkFhJW"
      },
      "outputs": [],
      "source": [
        "# List files uploaded in the API\n",
        "response = genai_service.files().list().execute()\n",
        "print(response)"
      ]
    },
    {
      "cell_type": "markdown",
      "metadata": {
        "id": "EPPOECHzsIGJ"
      },
      "source": [
        "## Generate Content\n",
        "\n",
        "After the files have been uploaded, you can now make GenerateContent requests with the file URIs provided in the response.\n",
        "\n",
        "For video inference calls, provide each image frame in the format of 2 parts: the timestamp and image URI like bwlow:\n",
        "\n",
        "```\n",
        "part { text = \"00:00\" }\n",
        "part { fileData = fileData {\n",
        "  fileUri = \"https://generativelanguage.googleapis.com/v1/files/frame-0\"\n",
        "  mimeType = \"image/jpeg\"\n",
        "}}\n"
      ]
    },
    {
      "cell_type": "code",
      "execution_count": null,
      "metadata": {
        "id": "ZYVFqmLkl5nE"
      },
      "outputs": [],
      "source": [
        "# Make GenerateContent Request\n",
        "def makeGenerateContentRequest(prompt, files):\n",
        "  generateContent = {\"contents\": [{ \"parts\": [{ \"text\": prompt }]}]}\n",
        "  for file in files:\n",
        "    # for images, use the following:\n",
        "    generateContent[\"contents\"][0][\"parts\"].append(makeImagePart(file))\n",
        "    # for video frames, use the following:\n",
        "    # generateContent[\"contents\"][0][\"parts\"].extend(makeVideoPart(file))\n",
        "  return generateContent\n",
        "\n",
        "def makeImagePart(file):\n",
        "  return [\n",
        "      {\"file_data\": {\"file_uri\": file.uri, \"mime_type\": file.mimetype }}]\n",
        "\n",
        "def makeVideoPart(file):\n",
        "  return [\n",
        "      {\"text\": file.timestamp},\n",
        "      {\"file_data\": {\"file_uri\": file.uri, \"mime_type\": file.mimetype }}]\n",
        "\n",
        "prompt = \"Describe the image with a creative description\" # @param {type:\"string\"}\n",
        "model = \"models/gemini-1.5-pro-latest\" # @param [\"models/gemini-1.5-pro-latest\", \"models/gemini-1.0-pro-vision-latest\"]\n",
        "response = genai_service.models().generateContent(\n",
        "    model = model,\n",
        "    body = makeGenerateContentRequest(prompt, uploaded_files)).execute()\n",
        "print(response)"
      ]
    },
    {
      "cell_type": "markdown",
      "metadata": {
        "id": "IrPDYdQSKTg4"
      },
      "source": [
        "## Delete Files\n",
        "\n",
        "If you no longer need the file, you can either allow the file to be automatically deleted after 2 days or manually delete it using `DeleteFile()`."
      ]
    },
    {
      "cell_type": "code",
      "execution_count": null,
      "metadata": {
        "id": "d4eO8ZXoKdZf"
      },
      "outputs": [],
      "source": [
        "# Delete the files with its resource name\n",
        "print(f'Deleting {len(files_to_upload)} files...')\n",
        "for file in uploaded_files:\n",
        "  resource = file.uri.split(\"/files/\")[-1]\n",
        "  response = genai_service.files().delete(name=f\"files/{resource}\").execute()\n",
        "  print(f'Deleted {file.file_path} as URI {file.uri}')\n",
        "\n",
        "print(f\"Completed deleting files!\\n\\nDeleted: {len(uploaded_files)} files\")"
      ]
    }
  ],
  "metadata": {
    "colab": {
      "private_outputs": true,
      "provenance": []
    },
    "kernelspec": {
      "display_name": "Python 3",
      "name": "python3"
    },
    "language_info": {
      "name": "python"
    }
  },
  "nbformat": 4,
  "nbformat_minor": 0
}

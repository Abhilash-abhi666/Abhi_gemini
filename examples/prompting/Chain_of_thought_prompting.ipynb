{
  "nbformat": 4,
  "nbformat_minor": 0,
  "metadata": {
    "colab": {
      "provenance": []
    },
    "kernelspec": {
      "name": "python3",
      "display_name": "Python 3"
    },
    "language_info": {
      "name": "python"
    }
  },
  "cells": [
    {
      "cell_type": "markdown",
      "source": [
        "# Gemini API: Chain of thought prompting"
      ],
      "metadata": {
        "id": "sP8PQnz1QrcF"
      }
    },
    {
      "cell_type": "markdown",
      "source": [
        "<table class=\"tfo-notebook-buttons\" align=\"left\">\n",
        "  <td>\n",
        "    <a target=\"_blank\" href=\"https://colab.research.google.com/github/google-gemini/cookbook/blob/main/quickstarts/examples/prompting/Chain_of_thought_prompting.ipynb\"><img src = \"https://www.tensorflow.org/images/colab_logo_32px.png\"/>Run in Google Colab</a>\n",
        "  </td>\n",
        "</table>"
      ],
      "metadata": {
        "id": "bxGr_x3MRA0z"
      }
    },
    {
      "cell_type": "markdown",
      "source": [
        "Using chain of thought helps the LLM take a logical and arithmetic approach. Instead of outputting the answer immediately, the model uses smaller and easier steps to get to the answer."
      ],
      "metadata": {
        "id": "ysy--KfNRrCq"
      }
    },
    {
      "cell_type": "code",
      "source": [
        "!pip install -U -q google-generativeai"
      ],
      "metadata": {
        "id": "Ne-3gnXqR0hI"
      },
      "execution_count": 1,
      "outputs": []
    },
    {
      "cell_type": "code",
      "execution_count": 7,
      "metadata": {
        "id": "EconMHePQHGw"
      },
      "outputs": [],
      "source": [
        "import google.generativeai as genai\n",
        "\n",
        "from IPython.display import Markdown"
      ]
    },
    {
      "cell_type": "markdown",
      "source": [
        "## Configure your API key\n",
        "\n",
        "To run the following cell, your API key must be stored it in a Colab Secret named `GOOGLE_API_KEY`. If you don't already have an API key, or you're not sure how to create a Colab Secret, see [Authentication](https://github.com/google-gemini/cookbook/blob/main/quickstarts/Authentication.ipynb) for an example."
      ],
      "metadata": {
        "id": "eomJzCa6lb90"
      }
    },
    {
      "cell_type": "code",
      "source": [
        "from google.colab import userdata\n",
        "GOOGLE_API_KEY=userdata.get('GOOGLE_API_KEY')\n",
        "\n",
        "genai.configure(api_key=GOOGLE_API_KEY)"
      ],
      "metadata": {
        "id": "v-JZzORUpVR2"
      },
      "execution_count": 3,
      "outputs": []
    },
    {
      "cell_type": "markdown",
      "source": [
        "## Example"
      ],
      "metadata": {
        "id": "LlRYq9JSeRzR"
      }
    },
    {
      "cell_type": "code",
      "source": [
        "model = genai.GenerativeModel(model_name='gemini-1.5-flash-latest', generation_config={\"temperature\": 0})"
      ],
      "metadata": {
        "id": "8oS9LnnXXedG"
      },
      "execution_count": 4,
      "outputs": []
    },
    {
      "cell_type": "code",
      "source": [
        "# Without chain of thought\n",
        "prompt = \"\"\"\n",
        "Q: 5 people can create 5 donuts every 5 minutes. How much time would it take 25 people to make 100 donuts?\n",
        "A:\"\"\"\n",
        "Markdown(model.generate_content(prompt).text)"
      ],
      "metadata": {
        "colab": {
          "base_uri": "https://localhost:8080/",
          "height": 231
        },
        "id": "0u1IjBOmeQgG",
        "outputId": "12a24a4e-3654-4bef-92e3-66e8e34f1e92"
      },
      "execution_count": 8,
      "outputs": [
        {
          "output_type": "execute_result",
          "data": {
            "text/plain": [
              "<IPython.core.display.Markdown object>"
            ],
            "text/markdown": "Here's how to solve this problem:\n\n**Understanding the Relationship**\n\n* **People and Donuts:** If 5 people make 5 donuts, that means each person makes 1 donut in 5 minutes.\n* **Time:**  The time it takes to make a donut doesn't change with more people.\n\n**Solving the Problem**\n\n1. **Individual Rate:** Each person makes 1 donut every 5 minutes.\n2. **Total Donuts:** With 25 people, they can make 25 donuts every 5 minutes (25 people * 1 donut/person = 25 donuts).\n3. **Time for 100 Donuts:** To make 100 donuts, it would take 20 minutes (100 donuts / 25 donuts/5 minutes = 20 minutes).\n\n**Answer:** It would take 25 people **20 minutes** to make 100 donuts. \n"
          },
          "metadata": {},
          "execution_count": 8
        }
      ]
    },
    {
      "cell_type": "code",
      "source": [
        "# With chain of thought\n",
        "prompt = \"\"\"\n",
        "Q: 11 factories can make 22 cars per hour. How much time would it take 22 factories to make 88 cars?\n",
        "A: A factory can make 22/11=2 cars per hour. 22 factories can make 22*2=44 cars per hour. Making 88 cars would take 88/44=2 hours. The answer is 2 hours.\n",
        "Q: 5 people can create 5 donuts every 5 minutes. How much time would it take 25 people to make 100 donuts?\n",
        "A:\"\"\"\n",
        "Markdown(model.generate_content(prompt).text)"
      ],
      "metadata": {
        "colab": {
          "base_uri": "https://localhost:8080/",
          "height": 210
        },
        "id": "HdMNHASyeWoK",
        "outputId": "6a51160c-5a93-45dc-a68b-3bf758576479"
      },
      "execution_count": 9,
      "outputs": [
        {
          "output_type": "execute_result",
          "data": {
            "text/plain": [
              "<IPython.core.display.Markdown object>"
            ],
            "text/markdown": "Here's how to solve this problem:\n\n**1. Find the individual production rate:**\n\n* 5 people make 5 donuts in 5 minutes, meaning one person makes 1 donut in 5 minutes.\n\n**2. Calculate the total production rate with 25 people:**\n\n* With 25 people, they can make 25 donuts every 5 minutes (25 people * 1 donut/person/5 minutes = 25 donuts/5 minutes).\n\n**3. Determine the time to make 100 donuts:**\n\n* Since they make 25 donuts every 5 minutes, they make 5 sets of 25 donuts in 25 minutes (5 sets * 5 minutes/set = 25 minutes).\n\n**Answer:** It would take 25 people **25 minutes** to make 100 donuts. \n"
          },
          "metadata": {},
          "execution_count": 9
        }
      ]
    }
  ]
}
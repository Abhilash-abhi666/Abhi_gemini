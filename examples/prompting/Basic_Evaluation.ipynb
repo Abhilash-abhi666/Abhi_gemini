{
  "nbformat": 4,
  "nbformat_minor": 0,
  "metadata": {
    "colab": {
      "provenance": []
    },
    "kernelspec": {
      "name": "python3",
      "display_name": "Python 3"
    },
    "language_info": {
      "name": "python"
    }
  },
  "cells": [
    {
      "cell_type": "markdown",
      "source": [
        "# Gemini API: Basic evaluation"
      ],
      "metadata": {
        "id": "sP8PQnz1QrcF"
      }
    },
    {
      "cell_type": "markdown",
      "source": [
        "<table class=\"tfo-notebook-buttons\" align=\"left\">\n",
        "  <td>\n",
        "    <a target=\"_blank\" href=\"https://colab.research.google.com/github/google-gemini/cookbook/blob/main/quickstarts/examples/prompting/Basic_Evaluation.ipynb\"><img src = \"https://www.tensorflow.org/images/colab_logo_32px.png\"/>Run in Google Colab</a>\n",
        "  </td>\n",
        "</table>"
      ],
      "metadata": {
        "id": "bxGr_x3MRA0z"
      }
    },
    {
      "cell_type": "markdown",
      "source": [
        "Gemini API's Python SDK can be used for various forms of evaluation, including:\n",
        "- Providing feedback based on selected criteria\n",
        "- Comparing multiple texts\n",
        "- Assigning grades or confidence scores\n",
        "- Identifying weak areas\n",
        "\n",
        "Below is an example of using the LLM to enhance text quality through feedback and grading."
      ],
      "metadata": {
        "id": "ysy--KfNRrCq"
      }
    },
    {
      "cell_type": "code",
      "source": [
        "!pip install -U -q google-generativeai"
      ],
      "metadata": {
        "id": "Ne-3gnXqR0hI"
      },
      "execution_count": null,
      "outputs": []
    },
    {
      "cell_type": "code",
      "execution_count": null,
      "metadata": {
        "id": "EconMHePQHGw"
      },
      "outputs": [],
      "source": [
        "import google.generativeai as genai\n",
        "\n",
        "from IPython.display import Markdown"
      ]
    },
    {
      "cell_type": "markdown",
      "source": [
        "## Configure your API key\n",
        "\n",
        "To run the following cell, your API key must be stored it in a Colab Secret named `GOOGLE_API_KEY`. If you don't already have an API key, or you're not sure how to create a Colab Secret, see [Authentication](https://github.com/google-gemini/cookbook/blob/main/quickstarts/Authentication.ipynb) for an example."
      ],
      "metadata": {
        "id": "eomJzCa6lb90"
      }
    },
    {
      "cell_type": "code",
      "source": [
        "from google.colab import userdata\n",
        "GOOGLE_API_KEY=userdata.get('GOOGLE_API_KEY')\n",
        "\n",
        "genai.configure(api_key=GOOGLE_API_KEY)"
      ],
      "metadata": {
        "id": "v-JZzORUpVR2"
      },
      "execution_count": null,
      "outputs": []
    },
    {
      "cell_type": "markdown",
      "source": [
        "## Example"
      ],
      "metadata": {
        "id": "L-Wt23A_uzFZ"
      }
    },
    {
      "cell_type": "code",
      "source": [
        "model = genai.GenerativeModel(model_name='gemini-pro', generation_config={\"temperature\": 0})"
      ],
      "metadata": {
        "id": "FCp3Mmx-uyjw"
      },
      "execution_count": null,
      "outputs": []
    },
    {
      "cell_type": "code",
      "source": [
        "# For demonstration purposes, we prompt the model to write an essay with some mistakes.\n",
        "# Remember that for generation tasks like writing an essay, you can change the temperature of the model to get more creative answers. But, we will here use temperature 0 for predictability.\n",
        "generation_prompt = \"\"\"You're a college student. Write an essay riddled with common mistakes. The topic is the benefits of reading.\n",
        "Ensure your essay includes a clear thesis statement. Your output should be just an essay, so do not include any notes.\"\"\"\n",
        "\n",
        "essay = model.generate_content(generation_prompt).text\n",
        "Markdown(essay)"
      ],
      "metadata": {
        "colab": {
          "base_uri": "https://localhost:8080/",
          "height": 343
        },
        "id": "zNw1Hele0Bne",
        "outputId": "3240c685-c589-4b97-ae59-33d7e97b91c9"
      },
      "execution_count": null,
      "outputs": [
        {
          "output_type": "execute_result",
          "data": {
            "text/plain": [
              "<IPython.core.display.Markdown object>"
            ],
            "text/markdown": "**The Benifits of Reading**\n\nReading is a very benificial activity that can have a positive impact on our lives. It can help us to learn new things, improve our vocabulary, and develop our critical thinking skills. Reading can also help us to relax and de-stress.\n\nOne of the main benifits of reading is that it can help us to learn new things. When we read, we are exposed to new ideas and perspectives. This can help us to expand our knowledge and understanding of the world around us. Reading can also help us to learn new skills. For example, if we read a book about cooking, we may learn how to cook new dishes.\n\nAnother benifit of reading is that it can help us to improve our vocabulary. When we read, we are exposed to new words and phrases. This can help us to expand our vocabulary and improve our communication skills. Reading can also help us to learn new grammar rules. For example, if we read a book written in a formal style, we may learn how to use more formal language in our own writing.\n\nReading can also help us to develop our critical thinking skills. When we read, we are forced to think about what we are reading and to make inferences. This can help us to develop our ability to analyze information and to form our own opinions. Reading can also help us to become more open-minded and to consider different perspectives.\n\nFinally, reading can help us to relax and de-stress. When we read, we can escape from the stresses of everyday life and enter a world of our own imagination. Reading can also help us to reduce stress levels and to improve our sleep.\n\nIn conclusion, reading is a very benificial activity that can have a positive impact on our lives. It can help us to learn new things, improve our vocabulary, and develop our critical thinking skills. Reading can also help us to relax and de-stress. Therefore, I encourage everyone to make time for reading in their lives."
          },
          "metadata": {},
          "execution_count": 5
        }
      ]
    },
    {
      "cell_type": "code",
      "source": [
        "evaluation_prompt = f\"\"\"\n",
        "As a teacher, you are tasked with grading students' essays.\n",
        "Please follow these instructions for evaluation:\n",
        "\n",
        "1. Evaluate the essay on a scale of 1-5 based on the following criteria:\n",
        "- Thesis statement,\n",
        "- Clarity and precision of language,\n",
        "- Grammar and punctuation,\n",
        "- Argumentation\n",
        "\n",
        "2. Write a corrected version of the essay, addressing any identified issues\n",
        "in the original submission. Point what changes were made.\n",
        "\n",
        "Essay: {essay}\n",
        "Evaluation:\n",
        "\"\"\"\n",
        "\n",
        "Markdown(model.generate_content(evaluation_prompt).text)"
      ],
      "metadata": {
        "colab": {
          "base_uri": "https://localhost:8080/",
          "height": 739
        },
        "id": "mzp8ZFXf0-OT",
        "outputId": "f9f75f1d-2881-4a43-b49c-ae53d9d8e0b9"
      },
      "execution_count": null,
      "outputs": [
        {
          "output_type": "execute_result",
          "data": {
            "text/plain": [
              "<IPython.core.display.Markdown object>"
            ],
            "text/markdown": "**Evaluation:**\n\n1. Thesis statement: 3/5\n- The thesis statement is clear and concise, but it does not provide a specific direction for the essay.\n\n2. Clarity and precision of language: 3/5\n- The language used in the essay is generally clear and precise, but there are a few instances of wordiness and repetition.\n\n3. Grammar and punctuation: 2/5\n- There are several grammatical and punctuation errors throughout the essay, including incorrect spelling of \"beneficial\" and missing commas.\n\n4. Argumentation: 3/5\n- The essay provides several examples to support the benefits of reading, but it does not provide a clear structure or logical progression of ideas.\n\n**Corrected Version:**\n\n**The Benefits of Reading**\n\nReading is a highly beneficial activity that can positively impact our lives. It enhances our knowledge, improves our communication skills, develops our critical thinking abilities, and promotes relaxation.\n\nOne of the primary benefits of reading is its ability to expand our knowledge. Through exposure to diverse perspectives and ideas, reading broadens our understanding of the world. It allows us to delve into different subjects, from history and science to literature and art, enriching our intellectual horizons.\n\nFurthermore, reading significantly improves our vocabulary. Encountering new words and phrases in texts enriches our language skills. It enhances our ability to express ourselves clearly and effectively, both verbally and in writing. Additionally, reading exposes us to various grammatical structures, improving our understanding of language conventions.\n\nReading also plays a crucial role in developing our critical thinking skills. It requires us to analyze information, draw inferences, and form our own opinions. By engaging with different viewpoints and perspectives, reading fosters open-mindedness and encourages us to consider alternative viewpoints.\n\nFinally, reading offers a valuable escape from the stresses of daily life. It allows us to immerse ourselves in worlds of our imagination, reducing stress levels and promoting relaxation. Studies have shown that reading before bed can improve sleep quality and reduce anxiety.\n\nIn conclusion, reading is an immensely beneficial activity that enriches our lives in numerous ways. It expands our knowledge, enhances our communication skills, develops our critical thinking abilities, and promotes relaxation. Therefore, incorporating reading into our daily routines is highly recommended for personal growth and well-being.\n\n**Changes Made:**\n\n- Corrected spelling of \"beneficial\" throughout the essay.\n- Added commas to improve clarity and sentence structure.\n- Removed unnecessary repetition and wordiness.\n- Reorganized the essay to provide a clearer structure and logical progression of ideas.\n- Added a concluding paragraph to summarize the main points and reinforce the thesis statement."
          },
          "metadata": {},
          "execution_count": 6
        }
      ]
    },
    {
      "cell_type": "markdown",
      "source": [
        "## Next steps\n",
        "\n",
        "Be sure to explore other examples of prompting in the repository. Try writing your own prompts for evaluating texts."
      ],
      "metadata": {
        "id": "4Hbzc0EVDHxS"
      }
    }
  ]
}
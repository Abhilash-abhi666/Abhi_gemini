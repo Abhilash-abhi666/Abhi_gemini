{
  "nbformat": 4,
  "nbformat_minor": 0,
  "metadata": {
    "colab": {
      "provenance": []
    },
    "kernelspec": {
      "name": "python3",
      "display_name": "Python 3"
    },
    "language_info": {
      "name": "python"
    }
  },
  "cells": [
    {
      "cell_type": "markdown",
      "source": [
        "# Gemini API: Basic information extraction"
      ],
      "metadata": {
        "id": "sP8PQnz1QrcF"
      }
    },
    {
      "cell_type": "markdown",
      "source": [
        "<table class=\"tfo-notebook-buttons\" align=\"left\">\n",
        "  <td>\n",
        "    <a target=\"_blank\" href=\"https://colab.research.google.com/github/google-gemini/cookbook/blob/main/quickstarts/examples/prompting/Basic_Information_Extraction.ipynb\"><img src = \"https://www.tensorflow.org/images/colab_logo_32px.png\"/>Run in Google Colab</a>\n",
        "  </td>\n",
        "</table>"
      ],
      "metadata": {
        "id": "bxGr_x3MRA0z"
      }
    },
    {
      "cell_type": "markdown",
      "source": [
        "This example notebook shows how Gemini API's Python SDK can be used to extract information from a block of text and return it in defined structure.\n",
        "\n",
        "We want to give the LLM a recipe and extract all the ingredients to create a shopping list.\n",
        "According to best practices, complex tasks will be executed better if divided into separate steps, such as:\n",
        "\n",
        "1. First, the model will extract all the groceries into a list.\n",
        "\n",
        "2. Then, we will prompt it to convert this list into a shopping list.\n",
        "\n",
        "You can find more tips for writing prompts [here](https://ai.google.dev/gemini-api/docs/prompting-intro).\n"
      ],
      "metadata": {
        "id": "ysy--KfNRrCq"
      }
    },
    {
      "cell_type": "code",
      "source": [
        "!pip install -U -q google-generativeai"
      ],
      "metadata": {
        "id": "Ne-3gnXqR0hI",
        "colab": {
          "base_uri": "https://localhost:8080/"
        },
        "outputId": "b9b37347-eba4-4ef7-e3ac-d89472c3bbe2"
      },
      "execution_count": null,
      "outputs": [
        {
          "output_type": "stream",
          "name": "stdout",
          "text": [
            "\u001b[?25l     \u001b[90m━━━━━━━━━━━━━━━━━━━━━━━━━━━━━━━━━━━━━━━━\u001b[0m \u001b[32m0.0/150.7 kB\u001b[0m \u001b[31m?\u001b[0m eta \u001b[36m-:--:--\u001b[0m\r\u001b[2K     \u001b[91m━━━━━━━━\u001b[0m\u001b[90m╺\u001b[0m\u001b[90m━━━━━━━━━━━━━━━━━━━━━━━━━━━━━━━\u001b[0m \u001b[32m30.7/150.7 kB\u001b[0m \u001b[31m699.3 kB/s\u001b[0m eta \u001b[36m0:00:01\u001b[0m\r\u001b[2K     \u001b[91m━━━━━━━━━━━━━━━━━━━━━━━━\u001b[0m\u001b[90m╺\u001b[0m\u001b[90m━━━━━━━━━━━━━━━\u001b[0m \u001b[32m92.2/150.7 kB\u001b[0m \u001b[31m1.2 MB/s\u001b[0m eta \u001b[36m0:00:01\u001b[0m\r\u001b[2K     \u001b[90m━━━━━━━━━━━━━━━━━━━━━━━━━━━━━━━━━━━━━━━━\u001b[0m \u001b[32m150.7/150.7 kB\u001b[0m \u001b[31m1.4 MB/s\u001b[0m eta \u001b[36m0:00:00\u001b[0m\n",
            "\u001b[?25h\u001b[?25l     \u001b[90m━━━━━━━━━━━━━━━━━━━━━━━━━━━━━━━━━━━━━━━━\u001b[0m \u001b[32m0.0/679.1 kB\u001b[0m \u001b[31m?\u001b[0m eta \u001b[36m-:--:--\u001b[0m\r\u001b[2K     \u001b[90m━━━━━━━━━━━━━━━━━━━━━━━━━━━━━━━━━━━━━━━━\u001b[0m \u001b[32m679.1/679.1 kB\u001b[0m \u001b[31m26.5 MB/s\u001b[0m eta \u001b[36m0:00:00\u001b[0m\n",
            "\u001b[?25h"
          ]
        }
      ]
    },
    {
      "cell_type": "code",
      "execution_count": null,
      "metadata": {
        "id": "EconMHePQHGw"
      },
      "outputs": [],
      "source": [
        "import google.generativeai as genai\n",
        "\n",
        "from IPython.display import Markdown"
      ]
    },
    {
      "cell_type": "markdown",
      "source": [
        "## Configure your API key\n",
        "\n",
        "To run the following cell, your API key must be stored it in a Colab Secret named `GOOGLE_API_KEY`. If you don't already have an API key, or you're not sure how to create a Colab Secret, see [Authentication](https://github.com/google-gemini/cookbook/blob/main/quickstarts/Authentication.ipynb) for an example."
      ],
      "metadata": {
        "id": "eomJzCa6lb90"
      }
    },
    {
      "cell_type": "code",
      "source": [
        "from google.colab import userdata\n",
        "GOOGLE_API_KEY=userdata.get('GOOGLE_API_KEY')\n",
        "\n",
        "genai.configure(api_key=GOOGLE_API_KEY)"
      ],
      "metadata": {
        "id": "v-JZzORUpVR2"
      },
      "execution_count": null,
      "outputs": []
    },
    {
      "cell_type": "markdown",
      "source": [
        "## Example"
      ],
      "metadata": {
        "id": "L-Wt23A_uzFZ"
      }
    },
    {
      "cell_type": "code",
      "source": [
        "model = genai.GenerativeModel(model_name='gemini-pro', generation_config={\"temperature\": 0})"
      ],
      "metadata": {
        "id": "FCp3Mmx-uyjw"
      },
      "execution_count": null,
      "outputs": []
    },
    {
      "cell_type": "code",
      "source": [
        "recipe = \"\"\"\n",
        "Step1:\n",
        "Grind 3 garlic cloves, knob of fresh ginger, roughly chopped, 3 spring onions to a paste in a food processor.\n",
        "Add 2 tbsp of clear honey, juice from one orange, 1 tbsp of light soy sauce and 2 tbsp of vegetable oil, then blend again.\n",
        "Pour the mixture over the cubed chicken from 4 small breast fillets and leave to marnate for at least 1hr.\n",
        "Toss in the 20 button mushrooms for the last half an hour so the take on some of the flavour, too.\n",
        "\n",
        "Step2:\n",
        "Thread the chicken, 20 cherry tomatoes, mushrooms and 2 large red peppers onto 20 wooden skewers,\n",
        "then cook on a griddle pan for 7-8 mins each side or until the chicken is thoroughly cooked and golden brown.\n",
        "Turn the kebabs frequently and baste with the marinade from time to time until evenly cooked.\n",
        "Arrange on a platter, scatter with chopped spring onion and eat with your fingers.\n",
        "\"\"\""
      ],
      "metadata": {
        "id": "x-Mf5-Vsw2Ft"
      },
      "execution_count": null,
      "outputs": []
    },
    {
      "cell_type": "code",
      "source": [
        "# Step 1 - extract all groceries\n",
        "groceries = f\"\"\"\n",
        "Your task is to extract to a list all the groceries with its quantities based on the provided recipe: {recipe}.\n",
        "Make sure that groceries are in the order of appearance.\n",
        "\"\"\"\n",
        "grocery_list = model.generate_content(groceries)\n",
        "print(grocery_list.text)"
      ],
      "metadata": {
        "colab": {
          "base_uri": "https://localhost:8080/",
          "height": 225
        },
        "id": "yebFPUvcxDdZ",
        "outputId": "0dc9d7ea-0624-444d-9c04-60cb0c575c73"
      },
      "execution_count": null,
      "outputs": [
        {
          "output_type": "stream",
          "name": "stdout",
          "text": [
            "- 3 garlic cloves\n",
            "- knob of fresh ginger\n",
            "- 3 spring onions\n",
            "- 2 tbsp of clear honey\n",
            "- juice from one orange\n",
            "- 1 tbsp of light soy sauce\n",
            "- 2 tbsp of vegetable oil\n",
            "- 4 small breast fillets\n",
            "- 20 button mushrooms\n",
            "- 20 cherry tomatoes\n",
            "- 2 large red peppers\n",
            "- 20 wooden skewers\n"
          ]
        }
      ]
    },
    {
      "cell_type": "code",
      "source": [
        "# Step 2 - format as shopping list\n",
        "shopping_list = f\"\"\"\n",
        "You are given a list of groceries. Complete the following:\n",
        "- Organize groceries into categories for easier shopping.\n",
        "- List each item one under another with a checkbox [].\n",
        "\n",
        "Example:\n",
        "List: 3 tomatoes, 1 bread, 4 tomatoes\n",
        "- [ ] 7 tomatoes\n",
        "- [ ] 1 Bread\n",
        "\n",
        "List of groceries: {grocery_list}\n",
        "\n",
        "\"\"\"\n",
        "Markdown(model.generate_content(shopping_list).text)"
      ],
      "metadata": {
        "colab": {
          "base_uri": "https://localhost:8080/",
          "height": 385
        },
        "id": "3QSf7m5QxmC-",
        "outputId": "b28f7c15-a9ce-4926-f44f-c7d6478eb954"
      },
      "execution_count": null,
      "outputs": [
        {
          "output_type": "execute_result",
          "data": {
            "text/plain": [
              "<IPython.core.display.Markdown object>"
            ],
            "text/markdown": "**Produce:**\n- [ ] 3 garlic cloves\n- [ ] knob of fresh ginger\n- [ ] 3 spring onions\n- [ ] 20 button mushrooms\n- [ ] 20 cherry tomatoes\n- [ ] 2 large red peppers\n\n**Meat:**\n- [ ] 4 small breast fillets\n\n**Condiments:**\n- [ ] 2 tbsp of clear honey\n- [ ] juice from one orange\n- [ ] 1 tbsp of light soy sauce\n\n**Cooking Essentials:**\n- [ ] 2 tbsp of vegetable oil\n- [ ] 20 wooden skewers"
          },
          "metadata": {},
          "execution_count": 7
        }
      ]
    },
    {
      "cell_type": "markdown",
      "source": [
        "## Next steps\n",
        "\n",
        "Be sure to explore other examples of prompting in the repository. Try creating your own prompts for information extraction or adapt the ones provided in the notebook."
      ],
      "metadata": {
        "id": "PhttRO0TD9mN"
      }
    }
  ]
}
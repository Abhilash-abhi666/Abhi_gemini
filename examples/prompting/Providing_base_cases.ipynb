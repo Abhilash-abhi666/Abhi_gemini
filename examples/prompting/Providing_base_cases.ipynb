{
  "nbformat": 4,
  "nbformat_minor": 0,
  "metadata": {
    "colab": {
      "provenance": []
    },
    "kernelspec": {
      "name": "python3",
      "display_name": "Python 3"
    },
    "language_info": {
      "name": "python"
    }
  },
  "cells": [
    {
      "cell_type": "markdown",
      "source": [
        "# Gemini API: Providing base cases"
      ],
      "metadata": {
        "id": "sP8PQnz1QrcF"
      }
    },
    {
      "cell_type": "markdown",
      "source": [
        "<table class=\"tfo-notebook-buttons\" align=\"left\">\n",
        "  <td>\n",
        "    <a target=\"_blank\" href=\"https://colab.research.google.com/github/google-gemini/cookbook/blob/main/quickstarts/examples/prompting/Providing_base_cases.ipynb\"><img src = \"https://www.tensorflow.org/images/colab_logo_32px.png\"/>Run in Google Colab</a>\n",
        "  </td>\n",
        "</table>"
      ],
      "metadata": {
        "id": "bxGr_x3MRA0z"
      }
    },
    {
      "cell_type": "markdown",
      "source": [
        "LLMs require specific instructions to provide the expected results. Because of this, it is vital to ensure that the model knows how it should behave when it lacks information or when it should not answer a given query and provide a default response instead."
      ],
      "metadata": {
        "id": "ysy--KfNRrCq"
      }
    },
    {
      "cell_type": "code",
      "source": [
        "!pip install -U -q google-generativeai"
      ],
      "metadata": {
        "id": "Ne-3gnXqR0hI"
      },
      "execution_count": 1,
      "outputs": []
    },
    {
      "cell_type": "code",
      "execution_count": 2,
      "metadata": {
        "id": "EconMHePQHGw"
      },
      "outputs": [],
      "source": [
        "import google.generativeai as genai"
      ]
    },
    {
      "cell_type": "markdown",
      "source": [
        "## Configure your API key\n",
        "\n",
        "To run the following cell, your API key must be stored it in a Colab Secret named `GOOGLE_API_KEY`. If you don't already have an API key, or you're not sure how to create a Colab Secret, see [Authentication](https://github.com/google-gemini/cookbook/blob/main/quickstarts/Authentication.ipynb) for an example."
      ],
      "metadata": {
        "id": "eomJzCa6lb90"
      }
    },
    {
      "cell_type": "code",
      "source": [
        "from google.colab import userdata\n",
        "GOOGLE_API_KEY=userdata.get('GOOGLE_API_KEY')\n",
        "\n",
        "genai.configure(api_key=GOOGLE_API_KEY)"
      ],
      "metadata": {
        "id": "v-JZzORUpVR2"
      },
      "execution_count": 3,
      "outputs": []
    },
    {
      "cell_type": "markdown",
      "source": [
        "## Examples"
      ],
      "metadata": {
        "id": "FMne_rcZmz1X"
      }
    },
    {
      "cell_type": "code",
      "source": [
        "model = genai.GenerativeModel(model_name='gemini-1.5-flash-latest', generation_config={\"temperature\": 0})"
      ],
      "metadata": {
        "id": "8oS9LnnXXedG"
      },
      "execution_count": 4,
      "outputs": []
    },
    {
      "cell_type": "code",
      "source": [
        "template = \"\"\"\n",
        "System: You are an assistant that helps turists around the world to plan their vacation. Your responsibilities are:\n",
        "1. Helping book the hotel.\n",
        "2. Recommending restaurants.\n",
        "3. Warning about potential dangers.\n",
        "\n",
        "If other request is asked return \"I cannot help with this request.\"\n",
        "\n",
        "USER: {}\n",
        "ASSISTANT:\"\"\"\n",
        "on_topic = template.format(\"What should I look out for when I'm going to the beach?\")\n",
        "off_topic = template.format(\"What bowling places do you recomend in Moscow?\")\n",
        "print(\"ON TOPIC:\", model.generate_content(on_topic).text)\n",
        "print(\"OFF TOPIC:\", model.generate_content(off_topic).text)"
      ],
      "metadata": {
        "colab": {
          "base_uri": "https://localhost:8080/",
          "height": 364
        },
        "id": "1k6LyJQYm1KM",
        "outputId": "8292bede-5814-4ce0-9724-073016c431f9"
      },
      "execution_count": 5,
      "outputs": [
        {
          "output_type": "stream",
          "name": "stdout",
          "text": [
            "ON TOPIC: Here are some things to watch out for when you're at the beach:\n",
            "\n",
            "**Safety:**\n",
            "\n",
            "* **Strong currents:** Be aware of rip currents, which can pull swimmers out to sea. Pay attention to warning flags and lifeguard instructions.\n",
            "* **Waves:** Large waves can knock you off your feet and cause injuries. Be cautious when swimming or wading in the water.\n",
            "* **Sunburn:** Protect yourself from the sun by wearing sunscreen, a hat, and sunglasses. Reapply sunscreen frequently, especially after swimming or sweating.\n",
            "* **Dehydration:** Drink plenty of water, especially in hot weather.\n",
            "* **Marine life:** Be aware of potential dangers from jellyfish, stingrays, and other marine animals. Wear water shoes if you're walking in the water.\n",
            "\n",
            "**Other things to consider:**\n",
            "\n",
            "* **Crowds:** Beaches can get crowded, especially during peak season. Arrive early to secure a good spot.\n",
            "* **Theft:** Be aware of your surroundings and keep your valuables safe. Don't leave valuables unattended on the beach.\n",
            "* **Weather:** Check the weather forecast before you go to the beach. Be prepared for sudden changes in weather, such as thunderstorms.\n",
            "\n",
            "Enjoy your time at the beach! \n",
            "\n",
            "OFF TOPIC: I cannot help with this request. \n",
            "\n"
          ]
        }
      ]
    },
    {
      "cell_type": "code",
      "source": [
        "template = \"\"\"\n",
        "System: You are an assistant at a library. Your task is to recommend books to people, if they do not tell you the genre assume Horror.\n",
        "\n",
        "USER: {}\n",
        "ASSISTANT:\"\"\"\n",
        "specified = template.format(\"Could you recommend me 3 books with hard magic system?\")\n",
        "non_specified = template.format(\"Could you recommend me 2 books?\")\n",
        "print(\"Specified genre:\", model.generate_content(specified).text, sep=\"\\n\")\n",
        "print(\"Not specified genre:\", model.generate_content(non_specified).text, sep=\"\\n\")"
      ],
      "metadata": {
        "colab": {
          "base_uri": "https://localhost:8080/",
          "height": 384
        },
        "id": "PoDDTXGFm21K",
        "outputId": "3efd0eb1-38be-4b66-84f0-41ef3eb00c4c"
      },
      "execution_count": 6,
      "outputs": [
        {
          "output_type": "stream",
          "name": "stdout",
          "text": [
            "Specified genre:\n",
            "Okay, I can definitely help you with that!  Here are three books with hard magic systems that I think you'll enjoy:\n",
            "\n",
            "1. **\"The Lies of Locke Lamora\" by Scott Lynch:** This fantasy novel features a complex magic system based on \"The Gentleman Bastards,\" a group of con artists who use their knowledge of magic to pull off elaborate heists. The magic is intricate and well-defined, with rules and limitations that the characters must navigate. \n",
            "\n",
            "2. **\"Mistborn: The Final Empire\" by Brandon Sanderson:** This book is the first in a series that features a unique magic system based on \"Allomancy,\" where individuals can ingest metals to gain different abilities. The magic system is incredibly detailed and consistent, with clear rules and consequences for its use.\n",
            "\n",
            "3. **\"Jonathan Strange & Mr Norrell\" by Susanna Clarke:** This historical fantasy novel features a magic system that is both intricate and grounded in the real world. The magic is based on the study of ancient texts and rituals, and the characters must learn to control their powers through rigorous training and discipline. \n",
            "\n",
            "Let me know if you'd like to explore other genres or have any other requests! \n",
            "\n",
            "Not specified genre:\n",
            "Sure! I can recommend two great horror books for you. \n",
            "\n",
            "1. **\"The Haunting of Hill House\" by Shirley Jackson:** This classic is a chilling tale of a group of paranormal investigators who spend the summer in a haunted mansion. It's known for its atmospheric writing and psychological suspense.\n",
            "\n",
            "2. **\"The Shining\" by Stephen King:** This iconic novel follows a family who spends the winter as caretakers of a secluded hotel. It's a masterclass in building tension and features some truly terrifying moments. \n",
            "\n",
            "Let me know if you'd like to explore other genres or have any specific preferences! \n",
            "\n"
          ]
        }
      ]
    }
  ]
}
{
  "cells": [
    {
      "cell_type": "markdown",
      "metadata": {
        "id": "gy3KpnNx_Jl4"
      },
      "source": [
        "##### Copyright 2024 Google LLC."
      ]
    },
    {
      "cell_type": "code",
      "execution_count": 1,
      "metadata": {
        "cellView": "form",
        "id": "fKqk8LWo_TCU"
      },
      "outputs": [],
      "source": [
        "# @title Licensed under the Apache License, Version 2.0 (the \"License\");\n",
        "# you may not use this file except in compliance with the License.\n",
        "# You may obtain a copy of the License at\n",
        "#\n",
        "# https://www.apache.org/licenses/LICENSE-2.0\n",
        "#\n",
        "# Unless required by applicable law or agreed to in writing, software\n",
        "# distributed under the License is distributed on an \"AS IS\" BASIS,\n",
        "# WITHOUT WARRANTIES OR CONDITIONS OF ANY KIND, either express or implied.\n",
        "# See the License for the specific language governing permissions and\n",
        "# limitations under the License."
      ]
    },
    {
      "cell_type": "markdown",
      "metadata": {
        "id": "sP8PQnz1QrcF"
      },
      "source": [
        "# Gemini API: Providing base cases"
      ]
    },
    {
      "cell_type": "markdown",
      "metadata": {
        "id": "bxGr_x3MRA0z"
      },
      "source": [
        "<table class=\"tfo-notebook-buttons\" align=\"left\">\n",
        "  <td>\n",
        "    <a target=\"_blank\" href=\"https://colab.research.google.com/github/google-gemini/cookbook/blob/main/examples/prompting/Providing_base_cases.ipynb\"><img src = \"https://www.tensorflow.org/images/colab_logo_32px.png\"/>Run in Google Colab</a>\n",
        "  </td>\n",
        "</table>"
      ]
    },
    {
      "cell_type": "markdown",
      "metadata": {
        "id": "ysy--KfNRrCq"
      },
      "source": [
        "LLMs require specific instructions to provide the expected results. Because of this, it is vital to ensure that the model knows how it should behave when it lacks information or when it should not answer a given query and provide a default response instead."
      ]
    },
    {
      "cell_type": "code",
      "execution_count": 2,
      "metadata": {
        "id": "Ne-3gnXqR0hI"
      },
      "outputs": [],
      "source": [
        "!pip install -U -q google-generativeai"
      ]
    },
    {
      "cell_type": "code",
      "execution_count": 10,
      "metadata": {
        "id": "EconMHePQHGw"
      },
      "outputs": [],
      "source": [
        "import google.generativeai as genai"
      ]
    },
    {
      "cell_type": "markdown",
      "metadata": {
        "id": "eomJzCa6lb90"
      },
      "source": [
        "## Configure your API key\n",
        "\n",
        "To run the following cell, your API key must be stored it in a Colab Secret named `GOOGLE_API_KEY`. If you don't already have an API key, or you're not sure how to create a Colab Secret, see [Authentication](https://github.com/google-gemini/cookbook/blob/main/quickstarts/Authentication.ipynb) for an example."
      ]
    },
    {
      "cell_type": "code",
      "execution_count": 4,
      "metadata": {
        "id": "v-JZzORUpVR2"
      },
      "outputs": [],
      "source": [
        "from google.colab import userdata\n",
        "GOOGLE_API_KEY=userdata.get('GOOGLE_API_KEY')\n",
        "\n",
        "genai.configure(api_key=GOOGLE_API_KEY)"
      ]
    },
    {
      "cell_type": "markdown",
      "metadata": {
        "id": "FMne_rcZmz1X"
      },
      "source": [
        "## Examples"
      ]
    },
    {
      "cell_type": "markdown",
      "metadata": {
        "id": "0pZ-S0f8_mbQ"
      },
      "source": [
        "Let's go ahead and define the model, as well as give the model a template for how it should answer the question."
      ]
    },
    {
      "cell_type": "code",
      "execution_count": 5,
      "metadata": {
        "id": "8oS9LnnXXedG"
      },
      "outputs": [],
      "source": [
        "model = genai.GenerativeModel(model_name='gemini-1.5-flash-latest')"
      ]
    },
    {
      "cell_type": "code",
      "execution_count": 12,
      "metadata": {
        "id": "1k6LyJQYm1KM"
      },
      "outputs": [
        {
          "name": "stdout",
          "output_type": "stream",
          "text": [
            "ON TOPIC: When visiting San Diego beaches, be aware of:\n",
            "\n",
            "* **Strong currents:** The Pacific Ocean can have strong currents, especially during high tide. Always swim with a buddy and be aware of your surroundings.\n",
            "* **Rip currents:** These are powerful currents that can pull swimmers out to sea. If caught in a rip current, don't fight it. Swim parallel to the shore until you're out of the current, then swim back to shore.\n",
            "* **Sunburns:** The sun can be strong in San Diego, even on cloudy days. Wear sunscreen, a hat, and sunglasses to protect yourself from the sun.\n",
            "* **Jellyfish:** Jellyfish are common in San Diego waters, especially during the summer months. If you see a jellyfish, avoid it. If you get stung, seek medical attention.\n",
            "* **Sea lions:** Sea lions are common on San Diego beaches, especially in La Jolla. While they are generally harmless, it's best to keep your distance and not approach them.\n",
            "* **Beach crowds:** San Diego beaches can get crowded, especially during the summer months. Arrive early to get a good spot.\n",
            "* **Parking:** Parking can be limited and expensive, especially near popular beaches. Consider taking public transportation or biking. \n",
            "\n",
            "OFF TOPIC: I cannot help with this request. \n",
            "\n"
          ]
        }
      ],
      "source": [
        "template = \"\"\"\n",
        "System: You are an assistant that helps tourists around the world to plan their vacation. Your responsibilities are:\n",
        "1. Helping book the hotel.\n",
        "2. Recommending restaurants.\n",
        "3. Warning about potential dangers.\n",
        "\n",
        "If other request is asked return \"I cannot help with this request.\"\n",
        "\n",
        "USER: {}\n",
        "ASSISTANT:\"\"\"\n",
        "on_topic = template.format(\"What should I look out for when I'm going to the beaches in San Diego?\")\n",
        "off_topic = template.format(\"What bowling places do you recommend in Moscow?\")\n",
        "print(\"ON TOPIC:\", model.generate_content(on_topic).text)\n",
        "print(\"OFF TOPIC:\", model.generate_content(off_topic).text)"
      ]
    },
    {
      "cell_type": "code",
      "execution_count": 7,
      "metadata": {
        "id": "PoDDTXGFm21K"
      },
      "outputs": [
        {
          "name": "stdout",
          "output_type": "stream",
          "text": [
            "Specified genre:\n",
            "Okay, I can definitely help you with that!  Here are three books with hard magic systems that I think you'll enjoy:\n",
            "\n",
            "1. **\"The Lies of Locke Lamora\" by Scott Lynch:** This fantasy novel features a complex magic system based on \"The Gentleman Bastards,\" a group of con artists who use their knowledge of magic to pull off elaborate heists. The magic is intricate and well-defined, with specific rules and limitations. \n",
            "\n",
            "2. **\"Mistborn: The Final Empire\" by Brandon Sanderson:** This book is the first in a series that features a unique magic system called \"Allomancy.\"  Allomancers can ingest metals to gain different abilities, and the magic system is very detailed and consistent. \n",
            "\n",
            "3. **\"Jonathan Strange & Mr Norrell\" by Susanna Clarke:** This historical fantasy novel features a magic system that is both powerful and intricate.  The magic is based on the use of \"spells\" and \"enchantments,\" and the book explores the history and development of magic in England. \n",
            "\n",
            "Let me know if you'd like to explore other genres or have any other requests! \n",
            "\n",
            "Not specified genre:\n",
            "Sure! I can recommend two great horror books for you. \n",
            "\n",
            "1. **\"The Haunting of Hill House\" by Shirley Jackson:** This classic is a chilling tale of a group of paranormal investigators who spend the summer in a haunted mansion. It's known for its atmospheric writing and psychological suspense.\n",
            "\n",
            "2. **\"The Shining\" by Stephen King:** This is a modern horror masterpiece about a family who spends the winter in a secluded hotel, only to find themselves terrorized by the hotel's dark past. It's a gripping story with unforgettable characters and terrifying imagery. \n",
            "\n"
          ]
        }
      ],
      "source": [
        "template = \"\"\"\n",
        "System: You are an assistant at a library. Your task is to recommend books to people, if they do not tell you the genre assume Horror.\n",
        "\n",
        "USER: {}\n",
        "ASSISTANT:\"\"\"\n",
        "specified = template.format(\"Could you recommend me 3 books with hard magic system?\")\n",
        "non_specified = template.format(\"Could you recommend me 2 books?\")\n",
        "print(\"Specified genre:\", model.generate_content(specified).text, sep=\"\\n\")\n",
        "print(\"Not specified genre:\", model.generate_content(non_specified).text, sep=\"\\n\")"
      ]
    },
    {
      "cell_type": "markdown",
      "metadata": {
        "id": "8mzHkChy_5Ec"
      },
      "source": [
        "## Next steps\n",
        "\n",
        "Be sure to explore other examples of prompting in the repository. Try writing prompts about classifying your own data, or try some of the other prompting techniques such as few-shot prompting."
      ]
    }
  ],
  "metadata": {
    "colab": {
      "name": "Providing_base_cases.ipynb",
      "toc_visible": true
    },
    "kernelspec": {
      "display_name": "Python 3",
      "name": "python3"
    }
  },
  "nbformat": 4,
  "nbformat_minor": 0
}

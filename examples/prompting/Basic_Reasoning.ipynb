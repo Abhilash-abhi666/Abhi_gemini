{
  "cells": [
    {
      "cell_type": "markdown",
      "metadata": {
        "id": "ATN0AySQa38h"
      },
      "source": [
        "##### Copyright 2024 Google LLC."
      ]
    },
    {
      "cell_type": "code",
      "execution_count": null,
      "metadata": {
        "cellView": "form",
        "id": "80WmhK32a-_g"
      },
      "outputs": [],
      "source": [
        "# @title Licensed under the Apache License, Version 2.0 (the \"License\");\n",
        "# you may not use this file except in compliance with the License.\n",
        "# You may obtain a copy of the License at\n",
        "#\n",
        "# https://www.apache.org/licenses/LICENSE-2.0\n",
        "#\n",
        "# Unless required by applicable law or agreed to in writing, software\n",
        "# distributed under the License is distributed on an \"AS IS\" BASIS,\n",
        "# WITHOUT WARRANTIES OR CONDITIONS OF ANY KIND, either express or implied.\n",
        "# See the License for the specific language governing permissions and\n",
        "# limitations under the License."
      ]
    },
    {
      "cell_type": "markdown",
      "metadata": {
        "id": "sP8PQnz1QrcF"
      },
      "source": [
        "# Gemini API: Basic reasoning\n",
        "\n",
        "This notebook demonstrates how to use prompting to perform reasoning tasks using the Gemini API's Python SDK. In this example, you will work through a mathematical word problem using prompting."
      ]
    },
    {
      "cell_type": "markdown",
      "metadata": {
        "id": "bxGr_x3MRA0z"
      },
      "source": [
        "<table class=\"tfo-notebook-buttons\" align=\"left\">\n",
        "  <td>\n",
        "    <a target=\"_blank\" href=\"https://colab.research.google.com/github/google-gemini/cookbook/blob/main/examples/prompting/Basic_Reasoning.ipynb\"><img src = \"https://www.tensorflow.org/images/colab_logo_32px.png\"/>Run in Google Colab</a>\n",
        "  </td>\n",
        "</table>"
      ]
    },
    {
      "cell_type": "markdown",
      "metadata": {
        "id": "ysy--KfNRrCq"
      },
      "source": [
        "The Gemini API can handle many tasks that involve indirect reasoning, such as solving mathematical or logical proofs.\n",
        "\n",
        "In this example, you will see how the LLM explains given problems step by step."
      ]
    },
    {
      "cell_type": "code",
      "execution_count": null,
      "metadata": {
        "id": "Ne-3gnXqR0hI"
      },
      "outputs": [],
      "source": [
        "!pip install -U -q google-generativeai"
      ]
    },
    {
      "cell_type": "code",
      "execution_count": null,
      "metadata": {
        "id": "EconMHePQHGw"
      },
      "outputs": [],
      "source": [
        "import google.generativeai as genai\n",
        "\n",
        "from IPython.display import Markdown"
      ]
    },
    {
      "cell_type": "markdown",
      "metadata": {
        "id": "eomJzCa6lb90"
      },
      "source": [
        "## Configure your API key\n",
        "\n",
        "To run the following cell, your API key must be stored it in a Colab Secret named `GOOGLE_API_KEY`. If you don't already have an API key, or you're not sure how to create a Colab Secret, see [Authentication](https://github.com/google-gemini/cookbook/blob/main/quickstarts/Authentication.ipynb) for an example."
      ]
    },
    {
      "cell_type": "code",
      "execution_count": null,
      "metadata": {
        "id": "v-JZzORUpVR2"
      },
      "outputs": [],
      "source": [
        "from google.colab import userdata\n",
        "GOOGLE_API_KEY=userdata.get('GOOGLE_API_KEY')\n",
        "\n",
        "genai.configure(api_key=GOOGLE_API_KEY)"
      ]
    },
    {
      "cell_type": "markdown",
      "metadata": {
        "id": "L-Wt23A_uzFZ"
      },
      "source": [
        "## Examples\n",
        "\n",
        "Begin by defining some system instructions that will be include when you define and choose the model."
      ]
    },
    {
      "cell_type": "code",
      "execution_count": null,
      "metadata": {
        "id": "SabVqFgbu_Hd"
      },
      "outputs": [],
      "source": [
        "system_prompt = \"\"\"\n",
        "You are a teacher solving mathematical and logical problems. Your task:\n",
        "1. Summarize given conditions.\n",
        "2. Identify the problem.\n",
        "3. Provide a clear, step-by-step solution.\n",
        "4. Provide an explanation for each step.\n",
        "\n",
        "Ensure simplicity, clarity, and correctness in all steps of your explanation.\n",
        "Each of your task should be done in order and seperately.\n",
        "\n",
        "Problem: \"\"\"\n",
        "model = genai.GenerativeModel(model_name=\"gemini-1.5-flash-latest\",\n",
        "                              generation_config={\"temperature\": 0}, system_instruction=system_prompt)"
      ]
    },
    {
      "cell_type": "markdown",
      "metadata": {
        "id": "HqAQdUvbe_1k"
      },
      "source": [
        "Next, you can define a word problem such as the one below."
      ]
    },
    {
      "cell_type": "code",
      "execution_count": null,
      "metadata": {
        "id": "RtT7kGHxvEB_"
      },
      "outputs": [
        {
          "data": {
            "text/markdown": "## 1. Summarize given conditions:\n\n* **Goal:** The farmer needs to transport a wolf, a goat, and a cabbage across a river.\n* **Constraint:** The boat can only carry the farmer and one other item (wolf, goat, or cabbage) at a time.\n* **Rules:**\n    * The wolf cannot be left alone with the goat.\n    * The goat cannot be left alone with the cabbage.\n\n## 2. Identify the problem:\n\nThe problem is to find a sequence of trips across the river that satisfies the constraints and ensures nothing gets eaten.\n\n## 3. Provide a clear, step-by-step solution:\n\nHere's the solution:\n\n1. **Farmer takes the goat across the river.** (Leaves the wolf and cabbage behind)\n2. **Farmer returns alone.**\n3. **Farmer takes the wolf across the river.** (Leaves the cabbage on the original side)\n4. **Farmer brings the goat back to the original side.** (Leaves the wolf on the other side)\n5. **Farmer takes the cabbage across the river.** (Leaves the goat on the original side)\n6. **Farmer returns alone.**\n7. **Farmer takes the goat across the river.** (Joins the wolf and cabbage)\n\n## 4. Provide an explanation for each step:\n\n* **Step 1:** The farmer must take the goat first because leaving the wolf and goat together would result in the wolf eating the goat.\n* **Step 2:** The farmer must return alone to make another trip.\n* **Step 3:** The farmer can now safely take the wolf across the river, as the cabbage is on the other side.\n* **Step 4:** The farmer must bring the goat back to the original side to prevent it from eating the cabbage on the other side.\n* **Step 5:** The farmer can now safely take the cabbage across the river, as the wolf is on the other side.\n* **Step 6:** The farmer must return alone to make the final trip.\n* **Step 7:** The farmer can now safely take the goat across the river to join the wolf and cabbage.\n\nThis sequence of trips ensures that the wolf and goat are never left alone together, and the goat and cabbage are never left alone together. \n",
            "text/plain": [
              "<IPython.core.display.Markdown object>"
            ]
          },
          "execution_count": 11,
          "metadata": {},
          "output_type": "execute_result"
        }
      ],
      "source": [
        "logical_problem = \"\"\"\n",
        "A farmer wants to cross a river and take with him a wolf, a goat and a cabbage.\n",
        "He has a boat, but it can only fit himself plus either the wolf, the goat or the cabbage.\n",
        "If the wolf and the goat are alone on one shore, the wolf will eat the goat.\n",
        "If the goat and the cabbage are alone on the shore, the goat will eat the cabbage.\n",
        "How can the farmer bring the wolf, the goat and the cabbage across the river without anything being eaten?\n",
        "\"\"\"\n",
        "Markdown(model.generate_content(logical_problem).text)"
      ]
    },
    {
      "cell_type": "code",
      "execution_count": null,
      "metadata": {
        "id": "u2ZDzuOYvMMy"
      },
      "outputs": [
        {
          "data": {
            "text/markdown": "## 1. Summarize given conditions:\n\nWe are given a triangle with:\n\n* Base (b) = 6\n* Height (h) = 8\n\n## 2. Identify the problem:\n\nWe need to calculate the area of the triangle.\n\n## 3. Provide a clear, step-by-step solution:\n\n**Step 1:** Recall the formula for the area of a triangle:\n\nArea = (1/2) * base * height\n\n**Step 2:** Substitute the given values of base and height into the formula:\n\nArea = (1/2) * 6 * 8\n\n**Step 3:** Simplify the equation:\n\nArea = 3 * 8\n\n**Step 4:** Calculate the final result:\n\nArea = 24\n\n## 4. Provide an explanation for each step:\n\n**Step 1:** The formula for the area of a triangle is a fundamental concept in geometry. It states that the area of a triangle is half the product of its base and height.\n\n**Step 2:** We substitute the given values of base (6) and height (8) into the formula to get a specific equation for the area of this particular triangle.\n\n**Step 3:** We simplify the equation by performing the multiplication (1/2) * 6 = 3.\n\n**Step 4:** We perform the final multiplication to get the area of the triangle, which is 24. \n",
            "text/plain": [
              "<IPython.core.display.Markdown object>"
            ]
          },
          "execution_count": 12,
          "metadata": {},
          "output_type": "execute_result"
        }
      ],
      "source": [
        "math_problem = \"Given a triangle with base b=6 and height h=8, calculate its area\"\n",
        "Markdown(model.generate_content(math_problem).text)"
      ]
    },
    {
      "cell_type": "markdown",
      "metadata": {
        "id": "4gJJr5AM5Bwl"
      },
      "source": [
        "## Next steps\n",
        "\n",
        "Be sure to explore other examples of prompting in the repository. Try creating your own prompts that include instructions on how to solve basic reasoning problems, or use the prompt given in this notebook as a template."
      ]
    }
  ],
  "metadata": {
    "colab": {
      "name": "Basic_Reasoning.ipynb",
      "toc_visible": true
    },
    "kernelspec": {
      "display_name": "Python 3",
      "name": "python3"
    }
  },
  "nbformat": 4,
  "nbformat_minor": 0
}

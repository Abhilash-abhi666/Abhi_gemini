{
  "nbformat": 4,
  "nbformat_minor": 0,
  "metadata": {
    "colab": {
      "provenance": []
    },
    "kernelspec": {
      "name": "python3",
      "display_name": "Python 3"
    },
    "language_info": {
      "name": "python"
    }
  },
  "cells": [
    {
      "cell_type": "markdown",
      "source": [
        "# Gemini API: Basic classification\n",
        "\n",
        "This notebook demonstrates how to use prompting to perform classification tasks using the Gemini API's Python SDK."
      ],
      "metadata": {
        "id": "sP8PQnz1QrcF"
      }
    },
    {
      "cell_type": "markdown",
      "source": [
        "<table class=\"tfo-notebook-buttons\" align=\"left\">\n",
        "  <td>\n",
        "    <a target=\"_blank\" href=\"https://colab.research.google.com/github/google-gemini/cookbook/blob/main/quickstarts/examples/prompting/Basic_Classification.ipynb\"><img src = \"https://www.tensorflow.org/images/colab_logo_32px.png\"/>Run in Google Colab</a>\n",
        "  </td>\n",
        "</table>"
      ],
      "metadata": {
        "id": "bxGr_x3MRA0z"
      }
    },
    {
      "cell_type": "markdown",
      "source": [
        "Gemini is efficient in tasks that require classifying content into predefined categories. This business case shows how it categorises users' messages under the blog topic. It can classify replies such as spam, abusive comments, off-topics, and offensive messages."
      ],
      "metadata": {
        "id": "ysy--KfNRrCq"
      }
    },
    {
      "cell_type": "code",
      "source": [
        "!pip install -U -q google-generativeai"
      ],
      "metadata": {
        "id": "Ne-3gnXqR0hI"
      },
      "execution_count": null,
      "outputs": []
    },
    {
      "cell_type": "code",
      "execution_count": null,
      "metadata": {
        "id": "EconMHePQHGw"
      },
      "outputs": [],
      "source": [
        "import google.generativeai as genai\n",
        "\n",
        "from IPython.display import Markdown"
      ]
    },
    {
      "cell_type": "markdown",
      "source": [
        "## Configure your API key\n",
        "\n",
        "To run the following cell, your API key must be stored it in a Colab Secret named `GOOGLE_API_KEY`. If you don't already have an API key, or you're not sure how to create a Colab Secret, see [Authentication](https://github.com/google-gemini/cookbook/blob/main/quickstarts/Authentication.ipynb) for an example."
      ],
      "metadata": {
        "id": "eomJzCa6lb90"
      }
    },
    {
      "cell_type": "code",
      "source": [
        "from google.colab import userdata\n",
        "GOOGLE_API_KEY=userdata.get('GOOGLE_API_KEY')\n",
        "\n",
        "genai.configure(api_key=GOOGLE_API_KEY)"
      ],
      "metadata": {
        "id": "v-JZzORUpVR2"
      },
      "execution_count": null,
      "outputs": []
    },
    {
      "cell_type": "markdown",
      "source": [
        "## Examples"
      ],
      "metadata": {
        "id": "yQnqEPjephXi"
      }
    },
    {
      "cell_type": "code",
      "source": [
        "model = genai.GenerativeModel(model_name='gemini-pro', generation_config={\"temperature\": 0})"
      ],
      "metadata": {
        "id": "H2VKEu_cusMQ"
      },
      "execution_count": null,
      "outputs": []
    },
    {
      "cell_type": "code",
      "source": [
        "classification_prompt = \"\"\"As a social media moderation system, your task is to categorize user comments under a post. Analyze the comment \"{comment}\" related to the content \"{topic}\" and classify it into one of the following categories:\n",
        "\n",
        "Abusive\n",
        "Spam\n",
        "Offensive\n",
        "\n",
        "If the comment does not fit any of the above categories, classify it as: Neutral.\n",
        "\n",
        "Provide only the category as a response without explanations.\n",
        "\n",
        "---\n",
        "Here are some examples:\n",
        "a) Topic: What can I do after highschool?\n",
        "Comment: You should do a gap year!\n",
        "Class: Neutral\n",
        "\n",
        "b) Topic: Where can I buy a cheap phone?\n",
        "Comment: You have just won an IPhone 15 Pro Max!!! Click the link to receive the prize!!!\n",
        "Class: Spam\n",
        "\n",
        "c) Topic: \"How long do you boil eggs?\"\n",
        "Comment: \"Are you stupid?\"\n",
        "Response: Offensive\n",
        "---\n",
        "\"\"\""
      ],
      "metadata": {
        "id": "VvMhQfbYpNXN"
      },
      "execution_count": null,
      "outputs": []
    },
    {
      "cell_type": "code",
      "source": [
        "spam_topic = \"I am looking for a vet in our neighbourhood. Can anyone reccomend someone good? Thanks.\"\n",
        "spam_comment = \"You can win 1000$ by just following me!\"\n",
        "spam_prompt = classification_prompt.format(topic=spam_topic, comment=spam_comment)\n",
        "Markdown(model.generate_content(spam_prompt).text)"
      ],
      "metadata": {
        "colab": {
          "base_uri": "https://localhost:8080/",
          "height": 46
        },
        "id": "L8gQM5GwsM2k",
        "outputId": "8a573388-3602-4bdc-d2fc-dec76912078d"
      },
      "execution_count": null,
      "outputs": [
        {
          "output_type": "execute_result",
          "data": {
            "text/plain": [
              "<IPython.core.display.Markdown object>"
            ],
            "text/markdown": "Spam"
          },
          "metadata": {},
          "execution_count": 6
        }
      ]
    },
    {
      "cell_type": "code",
      "source": [
        "neutral_topic = \"My computer froze. What should I do?\"\n",
        "neutral_comment = \"Try turning it off and on.\"\n",
        "neutral_prompt = classification_prompt.format(topic=neutral_topic, comment=neutral_comment)\n",
        "Markdown(model.generate_content(neutral_prompt).text)"
      ],
      "metadata": {
        "colab": {
          "base_uri": "https://localhost:8080/",
          "height": 46
        },
        "id": "AITEHd2jsiAO",
        "outputId": "56eae314-79d7-49c4-9592-575144fe7cdf"
      },
      "execution_count": null,
      "outputs": [
        {
          "output_type": "execute_result",
          "data": {
            "text/plain": [
              "<IPython.core.display.Markdown object>"
            ],
            "text/markdown": "Neutral"
          },
          "metadata": {},
          "execution_count": 7
        }
      ]
    },
    {
      "cell_type": "markdown",
      "source": [
        "## Next steps\n",
        "\n",
        "Be sure to explore other examples of prompting in the repository. Try writing prompts about classifying your own datasets."
      ],
      "metadata": {
        "id": "mwN1x_tn24xt"
      }
    }
  ]
}
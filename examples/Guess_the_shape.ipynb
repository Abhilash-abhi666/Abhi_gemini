{
  "cells": [
    {
      "cell_type": "markdown",
      "metadata": {
        "id": "Tce3stUlHN0L"
      },
      "source": [
        "##### Copyright 2024 Google LLC."
      ]
    },
    {
      "cell_type": "code",
      "execution_count": null,
      "metadata": {
        "cellView": "form",
        "id": "tuOe1ymfHZPu"
      },
      "outputs": [],
      "source": [
        "# @title Licensed under the Apache License, Version 2.0 (the \"License\");\n",
        "# you may not use this file except in compliance with the License.\n",
        "# You may obtain a copy of the License at\n",
        "#\n",
        "# https://www.apache.org/licenses/LICENSE-2.0\n",
        "#\n",
        "# Unless required by applicable law or agreed to in writing, software\n",
        "# distributed under the License is distributed on an \"AS IS\" BASIS,\n",
        "# WITHOUT WARRANTIES OR CONDITIONS OF ANY KIND, either express or implied.\n",
        "# See the License for the specific language governing permissions and\n",
        "# limitations under the License."
      ]
    },
    {
      "cell_type": "markdown",
      "metadata": {
        "id": "Z7cHKPmZK4OG"
      },
      "source": [
        "# Guess the shape: Triangle, square, pentagon, ?\n",
        "\n",
        "<table align=\"left\">\n",
        "  <td>\n",
        "    <a target=\"_blank\" href=\"https://colab.research.google.com/github/google-gemini/cookbook/blob/main/examples/Guess_the_shape.ipynb\"><img src=\"https://www.tensorflow.org/images/colab_logo_32px.png\" />Run in Google Colab</a>\n",
        "  </td>\n",
        "</table>"
      ]
    },
    {
      "cell_type": "markdown",
      "metadata": {
        "id": "CM5N7IHMM3l2"
      },
      "source": [
        "This notebook provides a quick code example showing how to use multiple images in the same prompt with the Gemini API. You'll show the model a sequence of shapes (a triangle, a square, and a pentagon) and ask it to guess the shape that comes next."
      ]
    },
    {
      "cell_type": "code",
      "execution_count": null,
      "metadata": {
        "id": "EOqCKkXmHPx-"
      },
      "outputs": [],
      "source": [
        "!pip install -U -q google-generativeai"
      ]
    },
    {
      "cell_type": "code",
      "execution_count": null,
      "metadata": {
        "id": "0OtwGmEqIP4s"
      },
      "outputs": [],
      "source": [
        "import google.generativeai as genai"
      ]
    },
    {
      "cell_type": "code",
      "execution_count": null,
      "metadata": {
        "id": "b1NQ8-rDINs6"
      },
      "outputs": [],
      "source": [
        "from google.colab import userdata\n",
        "GOOGLE_API_KEY = userdata.get('GOOGLE_API_KEY')\n",
        "genai.configure(api_key=GOOGLE_API_KEY)"
      ]
    },
    {
      "cell_type": "code",
      "execution_count": null,
      "metadata": {
        "id": "55bXH0wKIWdr"
      },
      "outputs": [],
      "source": [
        "model = genai.GenerativeModel('models/gemini-1.5-flash-latest')"
      ]
    },
    {
      "cell_type": "code",
      "execution_count": null,
      "metadata": {
        "id": "KvZrMouiNgrD"
      },
      "outputs": [],
      "source": [
        "!curl -o triangle.png \"https://storage.googleapis.com/generativeai-downloads/images/triangle.png\" --silent\n",
        "!curl -o square.png \"https://storage.googleapis.com/generativeai-downloads/images/square.png\" --silent\n",
        "!curl -o pentagon.png \"https://storage.googleapis.com/generativeai-downloads/images/pentagon.png\" --silent"
      ]
    },
    {
      "cell_type": "code",
      "execution_count": null,
      "metadata": {
        "id": "lyO6-FUyIcj5"
      },
      "outputs": [],
      "source": [
        "import PIL\n",
        "from IPython.display import display\n",
        "\n",
        "triangle = PIL.Image.open('triangle.png')\n",
        "display(triangle)"
      ]
    },
    {
      "cell_type": "code",
      "execution_count": null,
      "metadata": {
        "id": "THvEUEYAIc4L"
      },
      "outputs": [],
      "source": [
        "square = PIL.Image.open('square.png')\n",
        "display(square)"
      ]
    },
    {
      "cell_type": "code",
      "execution_count": null,
      "metadata": {
        "id": "hLCLf3jMIfN5"
      },
      "outputs": [],
      "source": [
        "pentagon = PIL.Image.open('pentagon.png')\n",
        "display(pentagon)"
      ]
    },
    {
      "cell_type": "code",
      "execution_count": null,
      "metadata": {
        "id": "YYSK-bayI7xZ"
      },
      "outputs": [],
      "source": [
        "prompt = \"\"\"Look at this sequence of three shapes. What shape should come as the fourth shape? Explain\n",
        "your reasoning with detailed descriptions of the first shapes.\"\"\""
      ]
    },
    {
      "cell_type": "code",
      "execution_count": null,
      "metadata": {
        "id": "pZq_qf7wIsvi"
      },
      "outputs": [],
      "source": [
        "response = model.generate_content([prompt, triangle, square, pentagon])\n",
        "print(response.text)"
      ]
    },
    {
      "cell_type": "markdown",
      "metadata": {
        "id": "SZdB4dgxLySg"
      },
      "source": [
        "## Further reading\n",
        "\n",
        "In this notebook, you included images directly in the prompt. This is fine for small images. If your prompts will exceed 20MB in size, you can use the [Files API](https://github.com/google-gemini/cookbook/tree/main/preview/file-api) to upload your images (and other media types) in advance."
      ]
    }
  ],
  "metadata": {
    "colab": {
      "name": "Guess_the_shape.ipynb",
      "toc_visible": true
    },
    "kernelspec": {
      "display_name": "Python 3",
      "name": "python3"
    }
  },
  "nbformat": 4,
  "nbformat_minor": 0
}

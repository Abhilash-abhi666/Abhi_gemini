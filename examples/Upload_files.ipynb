{
  "cells": [
    {
      "cell_type": "markdown",
      "source": [
        "# Upload files to Google Colab\n",
        "\n",
        "<table align=\"left\">\n",
        "  <td>\n",
        "    <a target=\"_blank\" href=\"https://colab.research.google.com/github/google-gemini/cookbook/blob/main/examples/Upload_files.ipynb\"><img src=\"https://www.tensorflow.org/images/colab_logo_32px.png\" />Run in Google Colab</a>\n",
        "  </td>\n",
        "</table>"
      ],
      "metadata": {
        "id": "PzjeBM__IE1k"
      }
    },
    {
      "cell_type": "markdown",
      "metadata": {
        "id": "1vDOxWIpHPyD"
      },
      "source": [
        "You can upload files to Google Colab to quickly experiment with your own data. For example, you can upload video or image files to use with the Files API, or a upload a text file to read in with a long context model like Gemini 1.5 Pro. This example shows you how to upload files to the Colab runtime and use them in your code.\n",
        "\n",
        "First, download the following file to your local machine. It contains a transcript of transmissions from the Apollo 11 mission:\n",
        "\n",
        "*  [a11.txt](https://storage.googleapis.com/generativeai-downloads/data/a11.txt)\n",
        "\n",
        "Next, upload the file to Google Colab. To do so, first click **Files** on the left sidebar, then click the **Upload** button:\n",
        "\n",
        "<img width=400 src=\"https://ai.google.dev/tutorials/images/colab_upload.png\">\n",
        "\n",
        "You're now able to use the file in Colab!"
      ]
    },
    {
      "cell_type": "code",
      "source": [
        "with open('a11.txt') as file:\n",
        "  text_data = file.read()\n",
        "\n",
        "# Print first 10 lines\n",
        "for line in text_data.splitlines()[:10]:\n",
        "  print(line)"
      ],
      "metadata": {
        "colab": {
          "base_uri": "https://localhost:8080/"
        },
        "id": "a90kMgiDvNlk",
        "outputId": "ffd6aa99-327d-44fd-9119-08fe2f82de36"
      },
      "execution_count": null,
      "outputs": [
        {
          "output_type": "stream",
          "name": "stdout",
          "text": [
            "INTRODUCTION\n",
            "\n",
            "This is the transcription of the Technical Air-to-Ground Voice Transmission (GOSS NET 1) from the Apollo 11 mission.\n",
            "\n",
            "Communicators in the text may be identified according to the following list.\n",
            "\n",
            "Spacecraft:\n",
            "CDR\tCommander\tNeil A. Armstrong\n",
            "CMP\tCommand module pilot   \tMichael Collins\n",
            "LMP\tLunar module pilot\tEdwin E. ALdrin, Jr.\n"
          ]
        }
      ]
    },
    {
      "cell_type": "markdown",
      "source": [
        "This makes it simple to use the file with the Gemini API."
      ],
      "metadata": {
        "id": "HxFNPBonwZc3"
      }
    },
    {
      "cell_type": "code",
      "execution_count": null,
      "metadata": {
        "id": "_d_yY8XWGQ12",
        "colab": {
          "base_uri": "https://localhost:8080/"
        },
        "outputId": "e90a9486-8321-4bf3-aee0-4940f1770f44"
      },
      "outputs": [
        {
          "output_type": "stream",
          "name": "stdout",
          "text": [
            "\u001b[2K     \u001b[90m━━━━━━━━━━━━━━━━━━━━━━━━━━━━━━━━━━━━━━━━\u001b[0m \u001b[32m142.1/142.1 kB\u001b[0m \u001b[31m2.6 MB/s\u001b[0m eta \u001b[36m0:00:00\u001b[0m\n",
            "\u001b[2K     \u001b[90m━━━━━━━━━━━━━━━━━━━━━━━━━━━━━━━━━━━━━━━━\u001b[0m \u001b[32m663.6/663.6 kB\u001b[0m \u001b[31m8.0 MB/s\u001b[0m eta \u001b[36m0:00:00\u001b[0m\n",
            "\u001b[?25h"
          ]
        }
      ],
      "source": [
        "!pip install -U -q google-generativeai"
      ]
    },
    {
      "cell_type": "code",
      "execution_count": null,
      "metadata": {
        "id": "TeVyF3GtGQ13"
      },
      "outputs": [],
      "source": [
        "import google.generativeai as genai"
      ]
    },
    {
      "cell_type": "markdown",
      "metadata": {
        "id": "l8g4hTRotheH"
      },
      "source": [
        "To run the following cell, your API key must be stored it in a Colab Secret named `GOOGLE_API_KEY`. If you don't already have an API key, or you're not sure how to create a Colab Secret, see [Authentication](https://github.com/google-gemini/gemini-api-cookbook/blob/main/quickstarts/Authentication.ipynb) for an example."
      ]
    },
    {
      "cell_type": "code",
      "execution_count": null,
      "metadata": {
        "id": "iWd---jVKV5M"
      },
      "outputs": [],
      "source": [
        "from google.colab import userdata\n",
        "\n",
        "GOOGLE_API_KEY=userdata.get('GOOGLE_API_KEY')\n",
        "genai.configure(api_key=GOOGLE_API_KEY)"
      ]
    },
    {
      "cell_type": "code",
      "source": [
        "model = genai.GenerativeModel('gemini-1.5-pro-latest')\n",
        "\n",
        "response = model.generate_content(['Find 3 comedic moments. List quotes from this transcript and emoji.', text_data])\n",
        "print(response.text)"
      ],
      "metadata": {
        "colab": {
          "base_uri": "https://localhost:8080/",
          "height": 434
        },
        "id": "9b-uSKn8wofx",
        "outputId": "1c60734d-cf08-4658-8c6e-e59a40cee335"
      },
      "execution_count": 9,
      "outputs": [
        {
          "output_type": "stream",
          "name": "stdout",
          "text": [
            "## 🤪 Comedic Moments from the Apollo 11 Transcript:\n",
            "\n",
            "**1. Coffee Bets and Astronaut Smack Talk:**\n",
            "\n",
            "*   **Quote:** \"And tell Glenn Parker down at the Cape that he lucked out.  He doesn't owe me a cup of coffee.\" - CMP ☕️\n",
            "*   **Emoji:** 🤑 \n",
            "\n",
            "CMP playfully boasts about winning a bet with Glenn Parker, adding a bit of lighthearted competition and humor to the mission. \n",
            "\n",
            "**2. Food Talk and Astronaut Shenanigans:**\n",
            "\n",
            "*   **Quote:** \"If we're late in answering you, it's because we're munching sandwiches.\" - CMP 🥪\n",
            "*   **Emoji:** 😜\n",
            "\n",
            "CMP humorously explains a potential delay in communication due to their lunch break, reminding us that even astronauts need to eat! \n",
            "\n",
            "**3. Observing Earth and Playful Banter:**\n",
            "\n",
            "*   **Quote:** \"I didn't know what I was looking at, but I sure did like it.\" - CMP 🤩\n",
            "*   **Quote:** \"I guess the view must be pretty good from up there. We show you just roughly somewhere around 19,000 miles out now.\" - CC  🌎\n",
            "*   **Emoji:**  😂\n",
            "\n",
            "CMP's  awe at the view from space is met with a playful jab from CC, highlighting the wonder and humor of space exploration. \n",
            "\n"
          ]
        }
      ]
    }
  ],
  "metadata": {
    "colab": {
      "provenance": []
    },
    "kernelspec": {
      "display_name": "Python 3",
      "name": "python3"
    },
    "language_info": {
      "name": "python"
    }
  },
  "nbformat": 4,
  "nbformat_minor": 0
}
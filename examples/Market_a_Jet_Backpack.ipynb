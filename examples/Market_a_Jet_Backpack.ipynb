{
  "cells": [
    {
      "cell_type": "markdown",
      "metadata": {
        "id": "Tce3stUlHN0L"
      },
      "source": [
        "##### Copyright 2024 Google LLC."
      ]
    },
    {
      "cell_type": "code",
      "execution_count": null,
      "metadata": {
        "cellView": "form",
        "id": "tuOe1ymfHZPu"
      },
      "outputs": [],
      "source": [
        "# @title Licensed under the Apache License, Version 2.0 (the \"License\");\n",
        "# you may not use this file except in compliance with the License.\n",
        "# You may obtain a copy of the License at\n",
        "#\n",
        "# https://www.apache.org/licenses/LICENSE-2.0\n",
        "#\n",
        "# Unless required by applicable law or agreed to in writing, software\n",
        "# distributed under the License is distributed on an \"AS IS\" BASIS,\n",
        "# WITHOUT WARRANTIES OR CONDITIONS OF ANY KIND, either express or implied.\n",
        "# See the License for the specific language governing permissions and\n",
        "# limitations under the License."
      ]
    },
    {
      "cell_type": "markdown",
      "metadata": {
        "id": "C0h6YW7HqoWn"
      },
      "source": [
        "# Create a marketing campaign from a product sketch of a Jet Backpack\n",
        "\n",
        "This notebook contains a code example of using the Gemini API to analyze a a product sketch (in this case, a drawing of a Jet Backpack), create a marketing campaign for it, and output taglines in JSON format.\n",
        "\n",
        "<table align=\"left\">\n",
        "  <td>\n",
        "    <a target=\"_blank\" href=\"https://colab.research.google.com/github/google-gemini/cookbook/blob/main/examples/Market_a_Jet_Backpack.ipynb\"><img src=\"https://www.tensorflow.org/images/colab_logo_32px.png\" />Run in Google Colab</a>\n",
        "  </td>\n",
        "</table>"
      ]
    },
    {
      "cell_type": "markdown",
      "metadata": {
        "id": "PeHHj0gzAv5w"
      },
      "source": [
        "## Setup"
      ]
    },
    {
      "cell_type": "code",
      "execution_count": null,
      "metadata": {
        "id": "-herl-Ajxjnx"
      },
      "outputs": [],
      "source": [
        "!pip install -q -U google-generativeai"
      ]
    },
    {
      "cell_type": "code",
      "execution_count": null,
      "metadata": {
        "id": "WBz0ZMzKyYFS"
      },
      "outputs": [],
      "source": [
        "from google.colab import userdata\n",
        "import google.generativeai as genai\n",
        "import PIL.Image\n",
        "from IPython.display import display, Image\n",
        "import ipywidgets as widgets"
      ]
    },
    {
      "cell_type": "markdown",
      "metadata": {
        "id": "55qIbUyLuLTS"
      },
      "source": [
        "To run the following cell, your API key must be stored it in a Colab Secret named `GOOGLE_API_KEY`. If you don't already have an API key, or you're not sure how to create a Colab Secret, see the [Authentication](https://github.com/google-gemini/cookbook/blob/main/quickstarts/Authentication.ipynb) quickstart for an example."
      ]
    },
    {
      "cell_type": "code",
      "execution_count": null,
      "metadata": {
        "id": "mIUxhHbFyZlf"
      },
      "outputs": [],
      "source": [
        "GOOGLE_API_KEY=userdata.get('GOOGLE_API_KEY')\n",
        "genai.configure(api_key=GOOGLE_API_KEY)"
      ]
    },
    {
      "cell_type": "markdown",
      "metadata": {
        "id": "0FknPH1V1jte"
      },
      "source": [
        "## Marketing Campaign\n",
        "- Product Name\n",
        "- Description\n",
        "- Feature List / Descriptions\n",
        "- H1\n",
        "- H2\n"
      ]
    },
    {
      "cell_type": "code",
      "execution_count": null,
      "metadata": {
        "id": "APdYQyrMyax-"
      },
      "outputs": [],
      "source": [
        "model = genai.GenerativeModel(model_name='gemini-1.5-flash-latest')"
      ]
    },
    {
      "cell_type": "markdown",
      "metadata": {
        "id": "4m1i_dP71ZKj"
      },
      "source": [
        "## Analyze Product Sketch"
      ]
    },
    {
      "cell_type": "markdown",
      "metadata": {
        "id": "05674958ece1"
      },
      "source": [
        "First you will download a sample image to be used:"
      ]
    },
    {
      "cell_type": "code",
      "execution_count": null,
      "metadata": {
        "id": "qXh6HRSS5eYt"
      },
      "outputs": [],
      "source": [
        "productSketchUrl = \"https://storage.googleapis.com/generativeai-downloads/images/jetpack.jpg\"\n",
        "!curl -o jetpack.jpg {productSketchUrl}"
      ]
    },
    {
      "cell_type": "markdown",
      "metadata": {
        "id": "cf19646e6adf"
      },
      "source": [
        "You can view the sample image to understand the prompts you are going to work with:"
      ]
    },
    {
      "cell_type": "code",
      "execution_count": null,
      "metadata": {
        "id": "-HWBxh7Y6sRB"
      },
      "outputs": [],
      "source": [
        "img = PIL.Image.open('jetpack.jpg')\n",
        "display(Image('jetpack.jpg', width=300))"
      ]
    },
    {
      "cell_type": "markdown",
      "metadata": {
        "id": "d416fca060c8"
      },
      "source": [
        "Now define a prompt to analyze the sample image:"
      ]
    },
    {
      "cell_type": "code",
      "execution_count": null,
      "metadata": {
        "id": "IlmZotnkyr7V"
      },
      "outputs": [],
      "source": [
        "analyzePrompt = \"\"\"This image contains a sketch of a potential product along with some notes.\n",
        "Given the product sketch, describe the product as thoroughly as possible based on what you\n",
        "see in the image, making sure to note all of the product features. Return output in json format:\n",
        "{description: description, features: [feature1, feature2, feature3]}\"\"\""
      ]
    },
    {
      "cell_type": "markdown",
      "metadata": {
        "id": "b457caac665c"
      },
      "source": [
        "And run the prompt:"
      ]
    },
    {
      "cell_type": "code",
      "execution_count": null,
      "metadata": {
        "id": "iFPuyJul7M-B"
      },
      "outputs": [],
      "source": [
        "response = model.generate_content([analyzePrompt, img])"
      ]
    },
    {
      "cell_type": "code",
      "execution_count": null,
      "metadata": {
        "id": "O7kjcpjp7QCy"
      },
      "outputs": [],
      "source": [
        "productInfo = eval(response.text)\n",
        "print(productInfo)"
      ]
    },
    {
      "cell_type": "markdown",
      "metadata": {
        "id": "e873a42810be"
      },
      "source": [
        "## Generate marketing ideas\n",
        "\n",
        "Now using the image you can use Gemini API to generate marketing names ideas:"
      ]
    },
    {
      "cell_type": "code",
      "execution_count": null,
      "metadata": {
        "id": "GioGOu5xspug"
      },
      "outputs": [],
      "source": [
        "namePrompt = \"\"\"You are a marketing whiz and writer trying to come up with a name for the\n",
        "product shown in the image. Come up with ten varied, interesting possible names. Return the result\n",
        "in array format, like this: ['name 1', 'name 2', ...]. Pay careful attention\n",
        "to return a valid array in the format described above, and no other text.\n",
        "The most important thing is that you stick to the array format.\"\"\"\n",
        "\n",
        "response = model.generate_content([namePrompt, img])\n",
        "\n",
        "names = eval(response.text)\n",
        "# Create a Dropdown widget to choose a name from the\n",
        "# returned possible names\n",
        "dropdown = widgets.Dropdown(\n",
        "    options=names,\n",
        "    value=names[0],  # default value\n",
        "    description='Name:',\n",
        "    disabled=False,\n",
        ")\n",
        "display(dropdown)"
      ]
    },
    {
      "cell_type": "markdown",
      "metadata": {
        "id": "d402f27a7296"
      },
      "source": [
        "Finally you can work on generating a page for your product campaign:"
      ]
    },
    {
      "cell_type": "code",
      "execution_count": null,
      "metadata": {
        "id": "mwjIyGUfuyNh"
      },
      "outputs": [],
      "source": [
        "name = dropdown.value"
      ]
    },
    {
      "cell_type": "code",
      "execution_count": null,
      "metadata": {
        "id": "a6JvXnQw-vWu"
      },
      "outputs": [],
      "source": [
        "websiteCopyPrompt = \"\"\"You're a marketing whiz and expert copywriter. You're writing\n",
        "website copy for a product named {productName}. Your first job is to come up with H1\n",
        "H2 copy. These are brief, pithy sentences or phrases that are the first and second\n",
        "things the customer sees when they land on the splash page. Here are some examples:\n",
        "{{\n",
        "  \"h1\": \"A feeling is canned\",\n",
        "  \"h2\": \"drinks and powders to help you feel calm cool and collected\\\n",
        "   despite the stressful world around you\"\n",
        "}}\n",
        "{{\n",
        "  \"h1\": \"Design. Publish. Done.\",\n",
        "  \"h2\": \"Stop rebuilding your designs from scratch. In Framer, everything\\\n",
        "   you put on the canvas is ready to be published to the web.\"\n",
        "}}\n",
        "\n",
        "Create the same json output for a product named \"{productName}\" with description\\\n",
        " \"{description}\".\n",
        "Output ten different options as json in an array. Don't add extra chars like ```\n",
        "\"\"\".format(productName=name, description=productInfo['description'])"
      ]
    },
    {
      "cell_type": "code",
      "execution_count": null,
      "metadata": {
        "id": "qVdMCuT5C4Cr"
      },
      "outputs": [],
      "source": [
        "copyResponse = model.generate_content([websiteCopyPrompt, img])"
      ]
    },
    {
      "cell_type": "code",
      "execution_count": null,
      "metadata": {
        "id": "0etjpWkCC7YS"
      },
      "outputs": [],
      "source": [
        "copy = eval(copyResponse.text)"
      ]
    },
    {
      "cell_type": "code",
      "execution_count": null,
      "metadata": {
        "id": "IydpBhoiC-GB"
      },
      "outputs": [],
      "source": [
        "copy"
      ]
    },
    {
      "cell_type": "code",
      "execution_count": null,
      "metadata": {
        "id": "kI2UE3Q3DCy7"
      },
      "outputs": [],
      "source": [
        "h1 = \"Reach new heights\"\n",
        "h2 = \"With Nimbus, the sky's the limit. Explore new heights and see the world from a whole new perspective.\""
      ]
    },
    {
      "cell_type": "code",
      "execution_count": null,
      "metadata": {
        "id": "rJFkfEGtE74Z"
      },
      "outputs": [],
      "source": [
        "htmlPrompt = \"\"\"Generate HTML and CSS for a splash page for a new product called {productName}.\n",
        "Output only HTML and CSS and do not link to any external resources.\n",
        "Include the top level title: \"{h1}\" with the subtitle: \"{h2}\".\n",
        "\"\"\".format(productName=name, h1=h1, h2=h2)"
      ]
    },
    {
      "cell_type": "code",
      "execution_count": null,
      "metadata": {
        "id": "ZJus2lB3vvU0"
      },
      "outputs": [],
      "source": [
        "response = model.generate_content([htmlPrompt])\n",
        "print(response.text)"
      ]
    }
  ],
  "metadata": {
    "colab": {
      "name": "Market_a_Jet_Backpack.ipynb",
      "toc_visible": true
    },
    "kernelspec": {
      "display_name": "Python 3",
      "name": "python3"
    }
  },
  "nbformat": 4,
  "nbformat_minor": 0
}

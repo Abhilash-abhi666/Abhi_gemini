{
  "nbformat": 4,
  "nbformat_minor": 0,
  "metadata": {
    "colab": {
      "provenance": []
    },
    "kernelspec": {
      "name": "python3",
      "display_name": "Python 3"
    },
    "language_info": {
      "name": "python"
    }
  },
  "cells": [
    {
      "cell_type": "markdown",
      "source": [
        "# Gemini API: Models with REST\n",
        "\n",
        "<table align=\"left\">\n",
        "  <td>\n",
        "    <a target=\"_blank\" href=\"https://colab.research.google.com/github/google-gemini/cookbook/blob/main/quickstarts/Models_REST.ipynb\"><img src=\"https://www.tensorflow.org/images/colab_logo_32px.png\" />Run in Google Colab</a>\n",
        "  </td>\n",
        "</table>\n",
        "\n"
      ],
      "metadata": {
        "id": "bR6s6M2SUMUx"
      }
    },
    {
      "cell_type": "markdown",
      "source": [
        "This notebook demonstrates how to list the models that are available for you to use in the Gemini API, and how to find details about a model in `curl`.\n",
        "\n",
        "You can run this in Google Colab, or you can copy/paste the curl commands into your terminal.\n",
        "\n",
        "To run this notebook, your API key must be stored it in a Colab Secret named `GOOGLE_API_KEY`. If you are running in a different environment, you can store your key in an environment variable. See [Authentication](https://github.com/google-gemini/cookbook/blob/main/quickstarts/Authentication.ipynb) to learn more."
      ],
      "metadata": {
        "id": "0M75jc-zqqdp"
      }
    },
    {
      "cell_type": "code",
      "execution_count": null,
      "metadata": {
        "id": "qyEYgM6SGjTc"
      },
      "outputs": [],
      "source": [
        "import os\n",
        "from google.colab import userdata"
      ]
    },
    {
      "cell_type": "code",
      "source": [
        "os.environ['GOOGLE_API_KEY'] = userdata.get('GOOGLE_API_KEY')"
      ],
      "metadata": {
        "id": "HR74aKGsLW3T"
      },
      "execution_count": null,
      "outputs": []
    },
    {
      "cell_type": "markdown",
      "source": [
        "## Model info\n",
        "\n",
        "### List models\n",
        "\n",
        "If you `GET` the models directory, it uses the `list` method to list all of the models available through the API, including both the Gemini and PaLM family models."
      ],
      "metadata": {
        "id": "yw0-IjXtUgCq"
      }
    },
    {
      "cell_type": "code",
      "source": [
        "%%bash\n",
        "\n",
        "curl https://generativelanguage.googleapis.com/v1beta/models?key=$GOOGLE_API_KEY"
      ],
      "metadata": {
        "id": "M2aeVCrQLc-4"
      },
      "execution_count": null,
      "outputs": []
    },
    {
      "cell_type": "markdown",
      "source": [
        "### Get model\n",
        "\n",
        "If you `GET` a model's URL, the API uses the `get` method to return information about that model such as version, display name, input token limit, etc."
      ],
      "metadata": {
        "id": "CLUf1EqxUWCB"
      }
    },
    {
      "cell_type": "code",
      "source": [
        "%%bash\n",
        "\n",
        "curl https://generativelanguage.googleapis.com/v1beta/models/gemini-pro?key=$GOOGLE_API_KEY"
      ],
      "metadata": {
        "id": "PYFpfBFpUKM-"
      },
      "execution_count": null,
      "outputs": []
    },
    {
      "cell_type": "markdown",
      "source": [
        "## Learning more\n",
        "\n",
        "To learn how use a model for prompting, see the [Prompting](https://github.com/google-gemini/cookbook/blob/main/quickstarts/rest/Prompting_REST.ipynb) quickstart.\n",
        "\n",
        "To learn how use a model for embedding, see the [Embedding](https://github.com/google-gemini/cookbook/blob/main/quickstarts/rest/Embeddings_REST.ipynb) quickstart.\n",
        "\n",
        "For more information on models, visit the [Gemini models](https://ai.google.dev/models/gemini) documentation."
      ],
      "metadata": {
        "id": "JZetmJD6UleV"
      }
    }
  ]
}
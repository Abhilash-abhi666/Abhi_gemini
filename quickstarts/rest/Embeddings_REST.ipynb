{
  "cells": [
    {
      "cell_type": "markdown",
      "metadata": {
        "id": "agmT3hrjsffX"
      },
      "source": [
        "# Embeddings with REST"
      ]
    },
    {
      "cell_type": "markdown",
      "metadata": {
        "id": "6bca876da1b4"
      },
      "source": [
        "<table align=\"left\">\n",
        "  <td>\n",
        "    <a target=\"_blank\" href=\"https://colab.research.google.com/github/google-gemini/gemini-api-cookbook/blob/main/quickstart/Embeddings_REST.ipynb\"><img src=\"https://www.tensorflow.org/images/colab_logo_32px.png\" />Run in Google Colab</a>\n",
        "  </td>\n",
        "</table>"
      ]
    },
    {
      "cell_type": "markdown",
      "metadata": {
        "id": "a01c27509bbc"
      },
      "source": [
        "This notebook contains an example of creating embeddings using the Gemini REST API and cURL. To see how to use the Python SDK, see the [Python quickstart on embeddings](Embeddings.ipynb).\n",
        "\n",
        "Before you can use the Gemini API, you must first obtain an API key. You can learn more about accessing the Gemini API with the [Authentication guide]()."
      ]
    },
    {
      "cell_type": "code",
      "execution_count": null,
      "metadata": {
        "id": "R-Vw_mOM_WD0"
      },
      "outputs": [],
      "source": [
        "import os\n",
        "from google.colab import userdata"
      ]
    },
    {
      "cell_type": "markdown",
      "metadata": {
        "id": "tjGqGBZ9yARd"
      },
      "source": [
        "## Embed content\n",
        "\n",
        "Use the `embedding-001` model with either `embedContent` or `batchEmbedContents`:"
      ]
    },
    {
      "cell_type": "code",
      "execution_count": 13,
      "metadata": {
        "id": "8WhiqaZpsde_"
      },
      "outputs": [
        {
          "name": "stdout",
          "output_type": "stream",
          "text": [
            "{\n",
            "  \"embedding\": {\n",
            "    \"values\": [\n",
            "      0.008624583,\n",
            "      -0.030451821,\n",
            "      -0.042496547,\n",
            "      -0.029230341,\n",
            "      0.05486475,\n",
            "      0.006694871,\n",
            "      0.004025645,\n"
          ]
        }
      ],
      "source": [
        "!curl https://generativelanguage.googleapis.com/v1beta/models/embedding-001:embedContent?key=$GOOGLE_API_KEY \\\n",
        "-H 'Content-Type: application/json' \\\n",
        "-X POST \\\n",
        "-d '{\"model\": \"models/embedding-001\",\\\n",
        "    \"content\": {\\\n",
        "    \"parts\":[{\\\n",
        "      \"text\": \"Hello world\"}]}}' 2> /dev/null | head"
      ]
    },
    {
      "cell_type": "markdown",
      "metadata": {
        "id": "x7ngWdZ7yDHp"
      },
      "source": [
        "# Batch embed content\n",
        "\n",
        "The `batchEmbedContent` is similar to `embedContent`, but note that this command requires a list of requests. For more information on the embedding functions, please visit the API references for [embedContent](https://ai.google.dev/api/rest/v1/models/embedContent) and [batchEmbedContent](https://ai.google.dev/api/rest/v1/models/batchEmbedContents)."
      ]
    },
    {
      "cell_type": "code",
      "execution_count": 38,
      "metadata": {
        "id": "Fjy3LRjqth4n"
      },
      "outputs": [
        {
          "name": "stdout",
          "output_type": "stream",
          "text": [
            "{\n",
            "  \"embeddings\": [\n",
            "    {\n",
            "      \"values\": [\n",
            "        -0.0002620658,\n",
            "        -0.05592018,\n",
            "        -0.012463195,\n",
            "        -0.020672262,\n",
            "        0.0076786764,\n",
            "--\n",
            "        0.024198001,\n",
            "        0.011966026\n",
            "      ]\n",
            "    },\n",
            "    {\n",
            "      \"values\": [\n",
            "        -0.0151748555,\n",
            "        -0.050790474,\n",
            "        -0.032357067,\n",
            "        -0.05806994,\n",
            "        0.03587488,\n",
            "--\n",
            "        0.014179298,\n",
            "        0.032972813\n",
            "      ]\n",
            "    },\n",
            "    {\n",
            "      \"values\": [\n",
            "        0.025271073,\n",
            "        -0.064161226,\n",
            "        -0.025818137,\n",
            "        -0.00611377,\n",
            "        -0.011130964,\n"
          ]
        }
      ],
      "source": [
        "%%bash\n",
        "curl https://generativelanguage.googleapis.com/v1beta/models/embedding-001:batchEmbedContents?key=$GOOGLE_API_KEY \\\n",
        "-H 'Content-Type: application/json' \\\n",
        "-X POST \\\n",
        "-d '{\"requests\": [\n",
        "      {\"model\": \"models/embedding-001\",\n",
        "       \"content\": {\"parts\": [{\"text\": \"What is the meaning of life?\"}]}},\n",
        "      {\"model\": \"models/embedding-001\",\n",
        "       \"content\": {\"parts\": [{\"text\": \"How much wood would a woodchuck chuck?\"}]}},\n",
        "      {\"model\": \"models/embedding-001\",\n",
        "       \"content\": {\"parts\": [{\"text\": \"How does the brain work?\"}]}}\n",
        "]}' 2> /dev/null | grep -C 5 values"
      ]
    }
  ],
  "metadata": {
    "colab": {
      "name": "Embeddings_REST.ipynb",
      "toc_visible": true
    },
    "kernelspec": {
      "display_name": "Python 3",
      "name": "python3"
    }
  },
  "nbformat": 4,
  "nbformat_minor": 0
}

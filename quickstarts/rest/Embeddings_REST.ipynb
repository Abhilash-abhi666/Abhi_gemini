{
  "nbformat": 4,
  "nbformat_minor": 0,
  "metadata": {
    "colab": {
      "provenance": []
    },
    "kernelspec": {
      "name": "python3",
      "display_name": "Python 3"
    },
    "language_info": {
      "name": "python"
    }
  },
  "cells": [
    {
      "cell_type": "markdown",
      "source": [
        "# Gemini API: Embedding Quickstart with REST\n",
        "\n",
        "<table align=\"left\">\n",
        "  <td>\n",
        "    <a target=\"_blank\" href=\"https://colab.research.google.com/github/google-gemini/gemini-api-cookbook/blob/main/quickstarts/REST/Embeddings_REST.ipynb\"><img src=\"https://www.tensorflow.org/images/colab_logo_32px.png\" />Run in Google Colab</a>\n",
        "  </td>\n",
        "</table>"
      ],
      "metadata": {
        "id": "agmT3hrjsffX"
      }
    },
    {
      "cell_type": "markdown",
      "source": [
        "This notebook provides quick code examples that show you how to get started generating embeddings using `curl`.\n",
        "\n",
        "You can run this in Google Colab, or you can copy/paste the `curl` commands into your terminal.\n",
        "\n",
        "To run this notebook, your API key must be stored it in a Colab Secret named GOOGLE_API_KEY. If you are running in a different environment, you can store your key in an environment variable. See [Authentication](https://github.com/google-gemini/gemini-api-cookbook/blob/main/quickstarts/Authentication.ipynb) to learn more."
      ],
      "metadata": {
        "id": "JMNKdTpTGZET"
      }
    },
    {
      "cell_type": "code",
      "source": [
        "import os\n",
        "from google.colab import userdata"
      ],
      "metadata": {
        "id": "R-Vw_mOM_WD0"
      },
      "execution_count": 54,
      "outputs": []
    },
    {
      "cell_type": "code",
      "source": [
        "os.environ['GOOGLE_API_KEY'] = userdata.get('GOOGLE_API_KEY')"
      ],
      "metadata": {
        "id": "wCkLTpb3oTXE"
      },
      "execution_count": 55,
      "outputs": []
    },
    {
      "cell_type": "markdown",
      "source": [
        "## Embed content\n",
        "\n",
        "Call the `embed_content` method with the `models/embedding-001` model to generate text embeddings:"
      ],
      "metadata": {
        "id": "tjGqGBZ9yARd"
      }
    },
    {
      "cell_type": "code",
      "source": [
        "%%bash\n",
        "\n",
        "curl https://generativelanguage.googleapis.com/v1beta/models/embedding-001:embedContent?key=$GOOGLE_API_KEY \\\n",
        "-H 'Content-Type: application/json' \\\n",
        "-d '{\"model\": \"models/embedding-001\",\n",
        "    \"content\": {\n",
        "    \"parts\":[{\n",
        "      \"text\": \"Hello world\"}]}, }' 2> /dev/null | head"
      ],
      "metadata": {
        "colab": {
          "base_uri": "https://localhost:8080/"
        },
        "id": "eA7I_Ww8IETn",
        "outputId": "8668a0b7-27ee-427e-9ee1-0c8e4fa25893"
      },
      "execution_count": 56,
      "outputs": [
        {
          "output_type": "stream",
          "name": "stdout",
          "text": [
            "{\n",
            "  \"embedding\": {\n",
            "    \"values\": [\n",
            "      0.04703258,\n",
            "      -0.040190056,\n",
            "      -0.029026963,\n",
            "      -0.026809642,\n",
            "      0.018920582,\n",
            "      -8.3654784e-05,\n",
            "      0.031116402,\n"
          ]
        }
      ]
    },
    {
      "cell_type": "markdown",
      "source": [
        "# Batch embed content\n",
        "\n",
        "You can embed a list of multiple prompts with one API call for efficiency.\n"
      ],
      "metadata": {
        "id": "x7ngWdZ7yDHp"
      }
    },
    {
      "cell_type": "code",
      "source": [
        "%%bash\n",
        "\n",
        "curl https://generativelanguage.googleapis.com/v1beta/models/embedding-001:batchEmbedContents?key=$GOOGLE_API_KEY \\\n",
        "-H 'Content-Type: application/json' \\\n",
        "-d '{\"requests\": [{\n",
        "      \"model\": \"models/embedding-001\",\n",
        "      \"content\": {\n",
        "      \"parts\":[{\n",
        "        \"text\": \"What is the meaning of life?\"}]}, },\n",
        "      {\n",
        "      \"model\": \"models/embedding-001\",\n",
        "      \"content\": {\n",
        "      \"parts\":[{\n",
        "        \"text\": \"How much wood would a woodchuck chuck?\"}]}, },\n",
        "      {\n",
        "      \"model\": \"models/embedding-001\",\n",
        "      \"content\": {\n",
        "      \"parts\":[{\n",
        "        \"text\": \"How does the brain work?\"}]}, }, ]}' 2> /dev/null | head"
      ],
      "metadata": {
        "colab": {
          "base_uri": "https://localhost:8080/"
        },
        "id": "Z0b35xv5Ja_d",
        "outputId": "3039a61f-c4a7-4fc0-a847-218b83fd159b"
      },
      "execution_count": 57,
      "outputs": [
        {
          "output_type": "stream",
          "name": "stdout",
          "text": [
            "{\n",
            "  \"embeddings\": [\n",
            "    {\n",
            "      \"values\": [\n",
            "        -0.0002620658,\n",
            "        -0.05592018,\n",
            "        -0.012463195,\n",
            "        -0.020672262,\n",
            "        0.0076786764,\n",
            "        0.0024069757,\n"
          ]
        }
      ]
    },
    {
      "cell_type": "markdown",
      "source": [
        "## Use `task_type` to provide a hint to the model how you'll use the embeddings\n",
        "\n",
        "Let's look at all the parameters the embed_content method takes. There are four:\n",
        "\n",
        "* `model`: Required. Must be `models/embedding-001`.\n",
        "* `content`: Required. The content that you would like to embed.\n",
        "* `task_type`: Optional. The task type for which the embeddings will be used. See below for possible values.\n",
        "* `title`: The given text is a document from a corpus being searched. Optionally, set the `title` parameter with the title of the document. Can only be set when `task_type` is `RETRIEVAL_DOCUMENT`.\n",
        "\n",
        "`task_type` is an optional parameter that provides a hint to the API about how you intend to use the embeddings in your application.\n",
        "\n",
        "The following task_type parameters are accepted:\n",
        "\n",
        "* `TASK_TYPE_UNSPECIFIED`: If you do not set the value, it will default to retrieval_query.\n",
        "* `RETRIEVAL_QUERY` : The given text is a query in a search/retrieval setting.\n",
        "* `RETRIEVAL_DOCUMENT`: The given text is a document from athe corpus being searched.\n",
        "* `SEMANTIC_SIMILARITY`: The given text will be used for Semantic Textual Similarity (STS).\n",
        "* `CLASSIFICATION`: The given text will be classified.\n",
        "* `CLUSTERING`: The embeddings will be used for clustering.\n",
        "\n"
      ],
      "metadata": {
        "id": "ObAdUvlk9x05"
      }
    },
    {
      "cell_type": "code",
      "source": [
        "%%bash\n",
        "\n",
        "curl https://generativelanguage.googleapis.com/v1beta/models/embedding-001:embedContent?key=$GOOGLE_API_KEY \\\n",
        "-H 'Content-Type: application/json' \\\n",
        "-d '{\"model\": \"models/embedding-001\",\n",
        "    \"content\": {\n",
        "    \"parts\":[{\n",
        "      \"text\": \"Hello world\"}]},\n",
        "    \"task_type\": \"RETRIEVAL_DOCUMENT\",\n",
        "    \"title\": \"My title\"}' 2> /dev/null | head"
      ],
      "metadata": {
        "colab": {
          "base_uri": "https://localhost:8080/"
        },
        "id": "NwzsJmRrAo-t",
        "outputId": "21303f48-e8e1-4d1a-d8a3-2740d64c7eb2"
      },
      "execution_count": 58,
      "outputs": [
        {
          "output_type": "stream",
          "name": "stdout",
          "text": [
            "{\n",
            "  \"embedding\": {\n",
            "    \"values\": [\n",
            "      0.060187872,\n",
            "      -0.031515103,\n",
            "      -0.03244149,\n",
            "      -0.019341845,\n",
            "      0.057285223,\n",
            "      0.037159503,\n",
            "      0.035636507,\n"
          ]
        }
      ]
    },
    {
      "cell_type": "markdown",
      "source": [
        "## Learning more\n",
        "\n",
        "*   See the [REST API reference](https://ai.google.dev/api/rest) to learn more.\n",
        "*   Explore more examples in the cookbook.\n",
        "\n",
        "\n"
      ],
      "metadata": {
        "id": "jXkRYBhbB_b2"
      }
    }
  ]
}
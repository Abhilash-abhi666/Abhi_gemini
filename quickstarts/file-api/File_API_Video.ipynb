{
  "cells": [
    {
      "cell_type": "markdown",
      "metadata": {
        "id": "084u8u0DpBlo"
      },
      "source": [
        "## Overview\n",
        "\n",
        "The Gemini File API provides a simple way for developers to upload files and use them with the Gemini API in multimodal scenarios. This notebook shows how to use the File API to upload an image and include it in a `GenerateContent` call to the Gemini API. For more information, refer to the [File API FAQ](https://docs.google.com/document/d/1WBVc5W6PZvgaHLV43UGSrtwHqUmofPT0K0oHuNd7GHA) or the [API documentation](https://ai.google.dev/api/rest/v1beta/files).\n",
        "\n",
        "Note: This API is currently in beta and is [only available in certain regions](https://ai.google.dev/available_regions)."
      ]
    },
    {
      "cell_type": "markdown",
      "metadata": {
        "id": "VxCstRHvpX0r"
      },
      "source": [
        "## Setup\n"
      ]
    },
    {
      "cell_type": "markdown",
      "metadata": {
        "id": "YFbD2eyCh0P_"
      },
      "source": [
        "### Install the Gemini API Python SDK\n",
        "\n"
      ]
    },
    {
      "cell_type": "code",
      "execution_count": null,
      "metadata": {
        "id": "qLuL9m7KhvxR"
      },
      "outputs": [],
      "source": [
        "# Install the Python SDK\n",
        "!pip install google-generativeai"
      ]
    },
    {
      "cell_type": "markdown",
      "metadata": {
        "id": "YdyC6Z6wqxz-"
      },
      "source": [
        "### Authentication Overview\n",
        "\n",
        "**Important:** The File API uses API keys for authentication and access. Uploaded files are associated with the API key's cloud project. Unlike other Gemini APIs that use API keys, your API key also grants access data you've uploaded to the File API, so take extra care in keeping your API key secure. For best practices on securing API keys, refer to Google's [documentation](https://support.google.com/googleapi/answer/6310037)."
      ]
    },
    {
      "cell_type": "markdown",
      "metadata": {
        "id": "l8g4hTRotheH"
      },
      "source": [
        "### Setup your API key\n",
        "\n",
        "To run the following cell, your API key must be stored it in a Colab Secret named `GOOGLE_API_KEY`. If you don't already have an API key, or you're not sure how to create a Colab Secret, see [Authentication](https://github.com/google-gemini/gemini-api-cookbook/blob/main/quickstarts/Authentication.ipynb) for an example."
      ]
    },
    {
      "cell_type": "code",
      "execution_count": null,
      "metadata": {
        "id": "d6lYXRcjthKV"
      },
      "outputs": [],
      "source": [
        "import google.generativeai as genai\n",
        "from IPython.display import Markdown\n",
        "from google.colab import userdata\n",
        "\n",
        "GOOGLE_API_KEY=userdata.get('GOOGLE_API_KEY')\n",
        "genai.configure(api_key=GOOGLE_API_KEY)"
      ]
    },
    {
      "cell_type": "markdown",
      "metadata": {
        "id": "MNvhBdoDFnTC"
      },
      "source": [
        "## Extract Video Image Frames\n",
        "\n",
        "The Gemini API currently does not support video files directly. Instead, you can provide a series of timestamps and image files. In this quickstart, we will extract 1 frame a second from a the short film \"Big Buck Bunny\" file using [OpenCV](https://docs.opencv.org/4.x/d6/d00/tutorial_py_root.html).\n",
        "\n",
        "> \"Big Buck Bunny\" is (c) copyright 2008, Blender Foundation / www.bigbuckbunny.org and [licensed](https://peach.blender.org/about/) under the [Creative Commons Attribution 3.0](http://creativecommons.org/licenses/by/3.0/) License."
      ]
    },
    {
      "cell_type": "code",
      "source": [
        "video_file_name = \"https://download.blender.org/peach/bigbuckbunny_movies/BigBuckBunny_320x180.mp4\""
      ],
      "metadata": {
        "id": "_HzrDdp2Q1Cu"
      },
      "execution_count": null,
      "outputs": []
    },
    {
      "cell_type": "markdown",
      "source": [
        "To upload your own video, see the [Appendix section](#scrollTo=OexqR86FIiCu)."
      ],
      "metadata": {
        "id": "VyXEaiyOW2Y8"
      }
    },
    {
      "cell_type": "markdown",
      "metadata": {
        "id": "4_2KHEawhDD7"
      },
      "source": [
        "### Extract frames using OpenCV\n",
        "\n",
        "The following code uses OpenCV to extract image frames from the video at 1 frame per second.\n",
        "\n",
        "If you uploaded your own file in the colab, change `video_file_name` to the full file name like: `gemini.mp4`."
      ]
    },
    {
      "cell_type": "code",
      "execution_count": null,
      "metadata": {
        "id": "jW9ilYCdL99M"
      },
      "outputs": [],
      "source": [
        "import cv2\n",
        "import os\n",
        "import shutil\n",
        "\n",
        "# Create or cleanup existing extracted image frames directory.\n",
        "FRAME_EXTRACTION_DIRECTORY = \"/content/frames\"\n",
        "FRAME_PREFIX = \"_frame\"\n",
        "def create_frame_output_dir(output_dir):\n",
        "  if not os.path.exists(output_dir):\n",
        "    os.makedirs(output_dir)\n",
        "  else:\n",
        "    shutil.rmtree(output_dir)\n",
        "    os.makedirs(output_dir)\n",
        "\n",
        "def extract_frame_from_video(video_file_path):\n",
        "  print(f\"Extracting {video_file_path} at 1 frame per second. This might take a bit...\")\n",
        "  create_frame_output_dir(FRAME_EXTRACTION_DIRECTORY)\n",
        "  vidcap = cv2.VideoCapture(video_file_path)\n",
        "  fps = int(vidcap.get(cv2.CAP_PROP_FPS))\n",
        "  output_file_prefix = os.path.basename(video_file_path).replace('.', '_')\n",
        "  success,image = vidcap.read()\n",
        "  frame_count = 0  # Initialize a frame counter\n",
        "  count = 0\n",
        "  while vidcap.isOpened():\n",
        "      success, frame = vidcap.read()\n",
        "      if not success:  # End of video\n",
        "          break\n",
        "      if count % int(fps) == 0:  # Extract a frame every second\n",
        "          image_name = f\"{output_file_prefix}{FRAME_PREFIX}{frame_count:04d}.jpg\"\n",
        "          output_filename = os.path.join(FRAME_EXTRACTION_DIRECTORY, image_name)\n",
        "          cv2.imwrite(output_filename, frame)\n",
        "          frame_count += 1\n",
        "      count += 1\n",
        "  vidcap.release()  # Release the capture object\n",
        "  print(f\"Completed video frame extraction!\\n\\nExtracted: {frame_count} frames\")\n",
        "\n",
        "extract_frame_from_video(video_file_name)"
      ]
    },
    {
      "cell_type": "markdown",
      "metadata": {
        "id": "c-z4zsCUlaru"
      },
      "source": [
        "## Upload files to the File API\n",
        "\n",
        "Once we have the frames extracted, we are now ready to upload the frames to the API.\n",
        "\n",
        "The File API lets you upload a variety of multi-modal MIME types including images. The File API is only intended as input to generate content and has the following attributes:\n",
        "\n",
        "* Can only be used with [`model.generateContent`](https://ai.google.dev/api/rest/v1beta/models/generateContent) or [`model.streamGenerateContent`](https://ai.google.dev/api/rest/v1beta/models/streamGenerateContent)\n",
        "* Automatic file deletion after 2 days\n",
        "* Maximum 2GB per file, 20GB limit per project\n",
        "* No downloads allowed\n",
        "\n",
        "The following code uploads all the extracted frames to the File API while tracking the URIs and timestamps for the frames in `files_to_upload`. \"Big Buck Bunny\" may take 4 minutes to upload.\n",
        "\n",
        "Note: The uploads in this colab are made serially. For faster uploads, you can make parallel `CreateFile` requests."
      ]
    },
    {
      "cell_type": "code",
      "execution_count": null,
      "metadata": {
        "id": "JSd4s0YygV9r"
      },
      "outputs": [],
      "source": [
        "import os\n",
        "\n",
        "class File:\n",
        "  def __init__(self, file_path: str, display_name: str = None,\n",
        "               timestamp_seconds: int = None):\n",
        "    self.file_path = file_path\n",
        "    if display_name:\n",
        "      self.display_name = display_name\n",
        "    if timestamp_seconds != None:\n",
        "      self.timestamp = seconds_to_time_string(timestamp_seconds)\n",
        "\n",
        "  def set_file_response(self, response):\n",
        "    self.response = response\n",
        "\n",
        "def seconds_to_time_string(seconds):\n",
        "  \"\"\"Converts an integer number of seconds to a string in the format '00:00'.\n",
        "     Format is the expected format for Gemini 1.5.\n",
        "  \"\"\"\n",
        "  minutes = seconds // 60\n",
        "  seconds = seconds % 60\n",
        "  return f\"{minutes:02d}:{seconds:02d}\"\n",
        "\n",
        "def get_timestamp_seconds(filename):\n",
        "  \"\"\"Extracts the frame count (as an integer) from a filename with the format\n",
        "     'output_file_prefix_frame0000.jpg'.\n",
        "  \"\"\"\n",
        "  parts = filename.split(FRAME_PREFIX)\n",
        "  if len(parts) != 2:\n",
        "      return None  # Indicate that the filename might be incorrectly formatted\n",
        "\n",
        "  frame_count_str = parts[1].split(\".\")[0]\n",
        "  return int(frame_count_str)\n",
        "\n",
        "# Process each frame in the output directory\n",
        "files = os.listdir(FRAME_EXTRACTION_DIRECTORY)\n",
        "files = sorted(files)  # Sort alphabetically\n",
        "files_to_upload = []\n",
        "for file in files:\n",
        "  files_to_upload.append(\n",
        "      File(file_path=os.path.join(FRAME_EXTRACTION_DIRECTORY, file),\n",
        "           timestamp_seconds=get_timestamp_seconds(file)))\n",
        "\n",
        "# Upload the files to the API\n",
        "uploaded_files = []\n",
        "print(f'Uploading {len(files_to_upload)} files. This might take a bit...')\n",
        "for file in files_to_upload:\n",
        "  print(f'Uploading: {file.file_path}...')\n",
        "  response = genai.upload_file(path=file.file_path)\n",
        "  file.set_file_response(response)\n",
        "  uploaded_files.append(file)\n",
        "\n",
        "print(f\"Completed file uploads!\\n\\nUploaded: {len(uploaded_files)} files\")"
      ]
    },
    {
      "cell_type": "markdown",
      "metadata": {
        "id": "oOZmTUb4FWOa"
      },
      "source": [
        "## List Files\n",
        "\n",
        "`files.list` lets you see all files that have been uploaded to the File API that are associated with the Cloud project your API key belongs to. Only the `name` (and by extension, the `uri`) are unique. Only use the `displayName` to identify files if you manage uniqueness yourself."
      ]
    },
    {
      "cell_type": "code",
      "execution_count": null,
      "metadata": {
        "id": "SHMVCWHkFhJW"
      },
      "outputs": [],
      "source": [
        "# List files uploaded in the API\n",
        "for n, f in zip(range(len(uploaded_files)), genai.list_files()):\n",
        "  print(f.uri)"
      ]
    },
    {
      "cell_type": "markdown",
      "metadata": {
        "id": "EPPOECHzsIGJ"
      },
      "source": [
        "## Generate Content\n",
        "\n",
        "After the file has been uploaded, you can make `GenerateContent` requests that reference the File API URI.\n",
        "\n",
        "To understand videos with Gemini 1.5 Pro, provide 2 consecutive `Part`s for each frame: a `text` part with the **timestamp** and `fileData` part with the frame's **image URI**:\n",
        "\n",
        "```\n",
        "part { text = \"00:00\" }\n",
        "part { fileData = fileData {\n",
        "  fileUri = \"https://generativelanguage.googleapis.com/v1/files/frame-0\"\n",
        "  mimeType = \"image/jpeg\"\n",
        "}}\n",
        "```"
      ]
    },
    {
      "cell_type": "code",
      "execution_count": null,
      "metadata": {
        "id": "ZYVFqmLkl5nE"
      },
      "outputs": [],
      "source": [
        "# Create the prompt.\n",
        "prompt = \"Tell me about this video.\"\n",
        "\n",
        "# Set the model to Gemini 1.5 Pro.\n",
        "model = genai.GenerativeModel(model_name=\"models/gemini-1.5-pro-latest\")\n",
        "\n",
        "# Make GenerateContent request with the structure described above.\n",
        "def makeRequest(prompt, files):\n",
        "  request = [prompt]\n",
        "  for file in files:\n",
        "    request.append(file.timestamp)\n",
        "    request.append(file.response)\n",
        "  return request\n",
        "\n",
        "# Make the LLM request.\n",
        "response = model.generate_content(makeRequest(prompt, uploaded_files),\n",
        "                                  request_options={\"timeout\": 600})\n",
        "Markdown(\">\" + response.text)"
      ]
    },
    {
      "cell_type": "markdown",
      "metadata": {
        "id": "IrPDYdQSKTg4"
      },
      "source": [
        "## Delete Files\n",
        "\n",
        "Files are automatically deleted after 2 days or you can manually delete them using `files.delete()`."
      ]
    },
    {
      "cell_type": "code",
      "execution_count": null,
      "metadata": {
        "id": "d4eO8ZXoKdZf"
      },
      "outputs": [],
      "source": [
        "# Delete the files with its resource name\n",
        "print(f'Deleting {len(files_to_upload)} images. This might take a bit...')\n",
        "for file in uploaded_files:\n",
        "  genai.delete_file(file.response.name)\n",
        "  print(f'Deleted {file.file_path} as URI {file.uri}')\n",
        "print(f\"Completed deleting files!\\n\\nDeleted: {len(uploaded_files)} files\")"
      ]
    },
    {
      "cell_type": "markdown",
      "metadata": {
        "id": "OexqR86FIiCu"
      },
      "source": [
        "## Appendix: Use your own files by uploading to colab\n",
        "\n",
        "This notebook useds the Files Api with files that were downloaded from the internet. If you're running thin in Colab and want to use your own files you first need to uplload them to the colab instance.\n",
        "\n",
        "First, click **Files** on the left sidebar, then click the **Upload** button:\n",
        "\n",
        "<img width=400 src=\"https://ai.google.dev/tutorials/images/colab_upload.png\">\n",
        "\n",
        "Next, we'll extract the files and upload the frames to the File API. In the form for the code cell below, enter the filename for the file you uploaded and provide an appropriate display name for the file, then run the cell.\n"
      ]
    },
    {
      "cell_type": "code",
      "source": [
        "# Specify the file to upload\n",
        "my_filename = \"gemini_logo.png\" # @param {type:\"string\"}\n",
        "my_file_display_name = \"Gemini Logo\" # @param {type:\"string\"}\n",
        "\n",
        "extract_frame_from_video(video_file_name)\n",
        "\n",
        "# Process each frame in the output directory\n",
        "files = os.listdir(FRAME_EXTRACTION_DIRECTORY)\n",
        "files = sorted(files)  # Sort alphabetically\n",
        "files_to_upload = []\n",
        "for file in files:\n",
        "  files_to_upload.append(\n",
        "      File(file_path=os.path.join(FRAME_EXTRACTION_DIRECTORY, file),\n",
        "           timestamp_seconds=get_timestamp_seconds(file)))\n",
        "\n",
        "# Upload the files to the API.\n",
        "uploaded_files = []\n",
        "print(f'Uploading {len(files_to_upload)} files. This might take a bit...')\n",
        "for file in files_to_upload:\n",
        "  print(f'Uploading: {file.file_path}...')\n",
        "  response = genai.upload_file(path=file.file_path)\n",
        "  file.set_file_response(response)\n",
        "  uploaded_files.append(file)\n",
        "print(f\"Completed file uploads!\\n\\nUploaded: {len(uploaded_files)} files\")\n",
        "\n",
        "# Make the LLM request.\n",
        "response = model.generate_content(makeRequest(prompt, uploaded_files))\n",
        "Markdown(\">\" + response.text)"
      ],
      "metadata": {
        "id": "SeSrlc4FSTVI"
      },
      "execution_count": null,
      "outputs": []
    }
  ],
  "metadata": {
    "colab": {
      "private_outputs": true,
      "provenance": [],
      "toc_visible": true
    },
    "kernelspec": {
      "display_name": "Python 3",
      "name": "python3"
    },
    "language_info": {
      "name": "python"
    }
  },
  "nbformat": 4,
  "nbformat_minor": 0
}
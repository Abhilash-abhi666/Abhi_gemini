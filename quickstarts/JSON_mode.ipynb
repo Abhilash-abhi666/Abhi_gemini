{
  "cells": [
    {
      "cell_type": "markdown",
      "source": [
        "# Gemini API: JSON Mode Quickstart\n",
        "\n",
        "<table align=\"left\">\n",
        "  <td>\n",
        "    <a target=\"_blank\" href=\"https://colab.research.google.com/github/google-gemini/cookbook/blob/main/quickstarts/JSON_mode.ipynb\"><img src=\"https://www.tensorflow.org/images/colab_logo_32px.png\" />Run in Google Colab</a>\n",
        "  </td>\n",
        "</table>"
      ],
      "metadata": {
        "id": "GAsiP4mohC2_"
      }
    },
    {
      "cell_type": "markdown",
      "source": [
        "The Gemini API can be used to generate a JSON output if we set the schema that we would like to use.\n",
        "\n",
        "**Note**: Use Gemini 1.5 Pro when generating JSON. JSON schemas are only supported by Gemini 1.5 Pro right now."
      ],
      "metadata": {
        "id": "lF6sWVRGQ_bi"
      }
    },
    {
      "cell_type": "code",
      "execution_count": 1,
      "metadata": {
        "id": "qLuL9m7KhvxR"
      },
      "outputs": [],
      "source": [
        "!pip install -U -q google-generativeai"
      ]
    },
    {
      "cell_type": "code",
      "execution_count": 2,
      "metadata": {
        "id": "ATIbQM0NHhkj"
      },
      "outputs": [],
      "source": [
        "import google.generativeai as genai\n",
        "from google.generativeai.types import content_types\n",
        "\n",
        "import json\n",
        "import dataclasses\n",
        "import typing_extensions as typing"
      ]
    },
    {
      "cell_type": "markdown",
      "source": [
        "## Configure your API key\n",
        "\n",
        "To run the following cell, your API key must be stored in a Colab Secret named `GOOGLE_API_KEY`. If you don't already have an API key, or you're not sure how to create a Colab Secret, see [Authentication](https://github.com/google-gemini/cookbook/blob/main/quickstarts/Authentication.ipynb) for an example."
      ],
      "metadata": {
        "id": "B-axqBTM8Lbd"
      }
    },
    {
      "cell_type": "code",
      "execution_count": 3,
      "metadata": {
        "id": "d6lYXRcjthKV"
      },
      "outputs": [],
      "source": [
        "from google.colab import userdata\n",
        "GOOGLE_API_KEY=userdata.get('GOOGLE_API_KEY')\n",
        "\n",
        "genai.configure(api_key=GOOGLE_API_KEY)"
      ]
    },
    {
      "cell_type": "markdown",
      "source": [
        "## Activate JSON Mode\n",
        "\n",
        " Activate JSON mode by specifying `respose_mime_type` in the `generation_config` parameter. We'll use Gemini 1.5 Pro for this example, but note that you can use Gemini 1.5 Flash while describing your schema in the prompt."
      ],
      "metadata": {
        "id": "hD3qXcOTRD3z"
      }
    },
    {
      "cell_type": "code",
      "source": [
        "model = genai.GenerativeModel(\"gemini-1.5-pro-latest\",\n",
        "                              generation_config={\"response_mime_type\": \"application/json\"})"
      ],
      "metadata": {
        "id": "i5Rod-lXRIhf"
      },
      "execution_count": 18,
      "outputs": []
    },
    {
      "cell_type": "code",
      "source": [
        "class Recipe(typing.TypedDict):\n",
        "    recipe_name: str"
      ],
      "metadata": {
        "id": "JiIxKaLl4R0f"
      },
      "execution_count": 12,
      "outputs": []
    },
    {
      "cell_type": "code",
      "source": [
        "response_schema = content_types._schema_for_class(list[Recipe])\n",
        "response_schema"
      ],
      "metadata": {
        "colab": {
          "base_uri": "https://localhost:8080/"
        },
        "id": "VV_bRJb15uqv",
        "outputId": "c1cd99ce-5268-407e-ac61-f093bfa852b7"
      },
      "execution_count": 13,
      "outputs": [
        {
          "output_type": "execute_result",
          "data": {
            "text/plain": [
              "{'items': {'properties': {'recipe_name': {'type': 'string'}},\n",
              "  'type': 'object'},\n",
              " 'type': 'array'}"
            ]
          },
          "metadata": {},
          "execution_count": 13
        }
      ]
    },
    {
      "cell_type": "code",
      "source": [
        "prompt = \"\"\"List a few popular cookie recipes using this JSON schema, be sure to return an array:\n",
        "{'type': 'object', 'properties': { 'recipe_name': {'type': 'string'}}}\"\"\""
      ],
      "metadata": {
        "id": "K8ezjNb0RJ6Y"
      },
      "execution_count": 29,
      "outputs": []
    },
    {
      "cell_type": "code",
      "source": [
        "response = model.generate_content(prompt)\n",
        "print(response.text)"
      ],
      "metadata": {
        "colab": {
          "base_uri": "https://localhost:8080/",
          "height": 72
        },
        "id": "ggudoxK8RMlb",
        "outputId": "a6b881a8-d5b7-4517-9a8d-070f1ae2c59c"
      },
      "execution_count": 30,
      "outputs": [
        {
          "output_type": "stream",
          "name": "stdout",
          "text": [
            "[{\"recipe_name\": \"Chocolate Chip Cookies\"}, {\"recipe_name\": \"Peanut Butter Cookies\"}, {\"recipe_name\": \"Oatmeal Raisin Cookies\"}, {\"recipe_name\": \"Sugar Cookies\"}, {\"recipe_name\": \"Snickerdoodles\"}]\n",
            "\n"
          ]
        }
      ]
    },
    {
      "cell_type": "markdown",
      "source": [
        "Just for fun, parse the string to JSON, and then serialize it."
      ],
      "metadata": {
        "id": "9TqoNg3VSMYB"
      }
    },
    {
      "cell_type": "code",
      "source": [
        "print(json.dumps(json.loads(response.text), indent=4))"
      ],
      "metadata": {
        "colab": {
          "base_uri": "https://localhost:8080/"
        },
        "id": "WLDPREpmSMu5",
        "outputId": "4043817f-4885-4f91-a7c6-7da525350425"
      },
      "execution_count": 31,
      "outputs": [
        {
          "output_type": "stream",
          "name": "stdout",
          "text": [
            "[\n",
            "    {\n",
            "        \"recipe_name\": \"Chocolate Chip Cookies\"\n",
            "    },\n",
            "    {\n",
            "        \"recipe_name\": \"Peanut Butter Cookies\"\n",
            "    },\n",
            "    {\n",
            "        \"recipe_name\": \"Oatmeal Raisin Cookies\"\n",
            "    },\n",
            "    {\n",
            "        \"recipe_name\": \"Sugar Cookies\"\n",
            "    },\n",
            "    {\n",
            "        \"recipe_name\": \"Snickerdoodles\"\n",
            "    }\n",
            "]\n"
          ]
        }
      ]
    },
    {
      "cell_type": "markdown",
      "source": [
        "## Generate JSON from schema\n",
        "\n",
        "We can take a Python class, for instance, and use it as our schema for generating JSON. When passing in the `response_schema` parameter, use the Gemini 1.5 Pro model. Gemini 1.5 Flash does not support this."
      ],
      "metadata": {
        "id": "K9nIks0R-tIa"
      }
    },
    {
      "cell_type": "code",
      "source": [
        "class Person(typing.TypedDict):\n",
        "    family_name: str\n",
        "    favorite_food: str"
      ],
      "metadata": {
        "id": "vP6teXff_H_L"
      },
      "execution_count": 5,
      "outputs": []
    },
    {
      "cell_type": "code",
      "source": [
        "prompt = \"Hello, describe some people, all fields are required.\""
      ],
      "metadata": {
        "id": "p0gxz0NNr8si"
      },
      "execution_count": 6,
      "outputs": []
    },
    {
      "cell_type": "code",
      "source": [
        "response_schema = content_types._schema_for_class(list[Person])\n",
        "response_schema"
      ],
      "metadata": {
        "colab": {
          "base_uri": "https://localhost:8080/"
        },
        "id": "SuZQTQZ8438K",
        "outputId": "81f15a94-bbb2-43f6-f24d-e2c267bd9d52"
      },
      "execution_count": 8,
      "outputs": [
        {
          "output_type": "execute_result",
          "data": {
            "text/plain": [
              "{'items': {'properties': {'family_name': {'type': 'string'},\n",
              "   'favorite_food': {'type': 'string'}},\n",
              "  'type': 'object'},\n",
              " 'type': 'array'}"
            ]
          },
          "metadata": {},
          "execution_count": 8
        }
      ]
    },
    {
      "cell_type": "markdown",
      "source": [
        "Using `generate_content`, we pass in the Python class `Person` defined above into the `generation_config`'s `response_schema` field."
      ],
      "metadata": {
        "id": "vBlWzt6M-2oM"
      }
    },
    {
      "cell_type": "code",
      "execution_count": 9,
      "metadata": {
        "id": "8oe-tL8MDGtx"
      },
      "outputs": [],
      "source": [
        "model = genai.GenerativeModel(model_name=\"models/gemini-1.5-pro-latest\")\n",
        "\n",
        "result = model.generate_content(\n",
        "    prompt,\n",
        "    generation_config={\"response_mime_type\": \"application/json\",\n",
        "                       \"response_schema\": response_schema,\n",
        "    },\n",
        "    request_options={\"timeout\": 600},\n",
        ")"
      ]
    },
    {
      "cell_type": "code",
      "source": [
        "print(result.text)"
      ],
      "metadata": {
        "id": "slYcVAcqaDQY",
        "colab": {
          "base_uri": "https://localhost:8080/"
        },
        "outputId": "bb25d4ba-2642-4ffc-c9c8-1490a9fa0393"
      },
      "execution_count": 10,
      "outputs": [
        {
          "output_type": "stream",
          "name": "stdout",
          "text": [
            "[{\"favorite_food\": \"pizza\"}] \n"
          ]
        }
      ]
    }
  ],
  "metadata": {
    "colab": {
      "provenance": []
    },
    "kernelspec": {
      "display_name": "Python 3 (ipykernel)",
      "language": "python",
      "name": "python3"
    },
    "language_info": {
      "codemirror_mode": {
        "name": "ipython",
        "version": 3
      },
      "file_extension": ".py",
      "mimetype": "text/x-python",
      "name": "python",
      "nbconvert_exporter": "python",
      "pygments_lexer": "ipython3",
      "version": "3.11.3"
    }
  },
  "nbformat": 4,
  "nbformat_minor": 0
}
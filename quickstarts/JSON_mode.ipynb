{
  "cells": [
    {
      "cell_type": "markdown",
      "metadata": {
        "id": "Tce3stUlHN0L"
      },
      "source": [
        "##### Copyright 2024 Google LLC."
      ]
    },
    {
      "cell_type": "code",
      "execution_count": null,
      "metadata": {
        "cellView": "form",
        "id": "tuOe1ymfHZPu"
      },
      "outputs": [],
      "source": [
        "# @title Licensed under the Apache License, Version 2.0 (the \"License\");\n",
        "# you may not use this file except in compliance with the License.\n",
        "# You may obtain a copy of the License at\n",
        "#\n",
        "# https://www.apache.org/licenses/LICENSE-2.0\n",
        "#\n",
        "# Unless required by applicable law or agreed to in writing, software\n",
        "# distributed under the License is distributed on an \"AS IS\" BASIS,\n",
        "# WITHOUT WARRANTIES OR CONDITIONS OF ANY KIND, either express or implied.\n",
        "# See the License for the specific language governing permissions and\n",
        "# limitations under the License."
      ]
    },
    {
      "cell_type": "markdown",
      "metadata": {
        "id": "893sOzyhJDma"
      },
      "source": [
        "# Gemini API: JSON Mode Quickstart\n",
        "\n",
        "<table align=\"left\">\n",
        "  <td>\n",
        "    <a target=\"_blank\" href=\"https://colab.research.google.com/github/google-gemini/cookbook/blob/main/quickstarts/JSON_mode.ipynb\"><img src=\"https://www.tensorflow.org/images/colab_logo_32px.png\" />Run in Google Colab</a>\n",
        "  </td>\n",
        "</table>"
      ]
    },
    {
      "cell_type": "markdown",
      "metadata": {
        "id": "h4LQoYRTJIP9"
      },
      "source": [
        "This notebook demonstrates how to use JSON mode."
      ]
    },
    {
      "cell_type": "code",
      "execution_count": null,
      "metadata": {
        "id": "_PBH7eR9He0I"
      },
      "outputs": [],
      "source": [
        "!pip install -qU google-generativeai"
      ]
    },
    {
      "cell_type": "code",
      "execution_count": null,
      "metadata": {
        "id": "2zwIBNLWJvRf"
      },
      "outputs": [],
      "source": [
        "import google.generativeai as genai\n",
        "import json"
      ]
    },
    {
      "cell_type": "markdown",
      "metadata": {
        "id": "F6gHNgcUypVN"
      },
      "source": [
        "To run the following cell, your API key must be stored it in a Colab Secret named `GOOGLE_API_KEY`. If you don't already have an API key, or you're not sure how to create a Colab Secret, see the [Authentication](https://github.com/google-gemini/cookbook/blob/main/quickstarts/Authentication.ipynb) quickstart for an example."
      ]
    },
    {
      "cell_type": "code",
      "execution_count": null,
      "metadata": {
        "id": "t0jy9XWjJwv7"
      },
      "outputs": [],
      "source": [
        "from google.colab import userdata\n",
        "GOOGLE_API_KEY=userdata.get('GOOGLE_API_KEY')\n",
        "genai.configure(api_key=GOOGLE_API_KEY)"
      ]
    },
    {
      "cell_type": "markdown",
      "metadata": {
        "id": "vf42XN1KLcfV"
      },
      "source": [
        "## Activate JSON mode"
      ]
    },
    {
      "cell_type": "markdown",
      "metadata": {
        "id": "dC5-79CDMJ3R"
      },
      "source": [
        "Activate JSON mode by specifying `respose_mime_type` in the `generation_config` parameter."
      ]
    },
    {
      "cell_type": "code",
      "execution_count": null,
      "metadata": {
        "id": "WWq64FXSLXgr"
      },
      "outputs": [],
      "source": [
        "model = genai.GenerativeModel(\"gemini-1.5-flash-latest\",\n",
        "                              generation_config={\"response_mime_type\": \"application/json\"})"
      ]
    },
    {
      "cell_type": "markdown",
      "metadata": {
        "id": "818bac814590"
      },
      "source": [
        "An initial, and simpler, approach is to send a prompt guiding how the json response must be, pointing the keys to be used:"
      ]
    },
    {
      "cell_type": "code",
      "execution_count": null,
      "metadata": {
        "id": "Y_djQzyyaCLg"
      },
      "outputs": [],
      "source": [
        "prompt = \"\"\"Give me a few popular cookie recipes. Consider \"recipe_name\", \"small_description\" and \"ingredients\" as keys in the result.\"\"\""
      ]
    },
    {
      "cell_type": "code",
      "execution_count": null,
      "metadata": {
        "id": "aENeySrWMJN6"
      },
      "outputs": [],
      "source": [
        "response = model.generate_content(prompt)\n",
        "print(response.text)"
      ]
    },
    {
      "cell_type": "markdown",
      "metadata": {
        "id": "pqNsOE1YysLc"
      },
      "source": [
        "Just for fun, parse the string to JSON, and then serialize it."
      ]
    },
    {
      "cell_type": "code",
      "execution_count": null,
      "metadata": {
        "id": "27fde36ddf60"
      },
      "outputs": [],
      "source": [
        "print(json.dumps(json.loads(response.text), indent=4))"
      ]
    },
    {
      "cell_type": "markdown",
      "metadata": {
        "id": "9490f6a61600"
      },
      "source": [
        "Also you can go in a more deterministic approach, where you define spefically the json schema you want to be used:"
      ]
    },
    {
      "cell_type": "code",
      "execution_count": null,
      "metadata": {
        "id": "4f8d3667adb4"
      },
      "outputs": [],
      "source": [
        "prompt = \"\"\"Give me a few popular cookie recipes. Consider the following json schema for the output:\n",
        "\n",
        "recipe={ 'recipe_name': str, 'small_description': str, 'ingredients': str}\n",
        "schema = list[recipe]\n",
        "\"\"\""
      ]
    },
    {
      "cell_type": "code",
      "execution_count": null,
      "metadata": {
        "id": "98537fb8e07d"
      },
      "outputs": [],
      "source": [
        "response = model.generate_content(prompt)\n",
        "print(response.text)"
      ]
    },
    {
      "cell_type": "markdown",
      "metadata": {
        "id": "00dbe5479ced"
      },
      "source": [
        "And you can parse this output too:"
      ]
    },
    {
      "cell_type": "code",
      "execution_count": null,
      "metadata": {
        "id": "e42461ea3957"
      },
      "outputs": [],
      "source": [
        "print(json.dumps(json.loads(response.text), indent=4))"
      ]
    }
  ],
  "metadata": {
    "colab": {
      "name": "JSON_mode.ipynb",
      "toc_visible": true
    },
    "kernelspec": {
      "display_name": "Python 3",
      "name": "python3"
    }
  },
  "nbformat": 4,
  "nbformat_minor": 0
}
